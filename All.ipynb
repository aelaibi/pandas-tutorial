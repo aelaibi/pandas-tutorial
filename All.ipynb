{
 "cells": [
  {
   "cell_type": "code",
   "execution_count": 67,
   "metadata": {
    "collapsed": true
   },
   "outputs": [],
   "source": [
    "%matplotlib inline\n",
    "import pandas as pd\n",
    "idx = pd.IndexSlice"
   ]
  },
  {
   "cell_type": "code",
   "execution_count": 68,
   "metadata": {},
   "outputs": [
    {
     "data": {
      "text/html": [
       "<style>body {\n",
       "    margin: 0;\n",
       "    font-family: Helvetica;\n",
       "}\n",
       "table.dataframe {\n",
       "    border-collapse: collapse;\n",
       "    border: none;\n",
       "}\n",
       "table.dataframe tr {\n",
       "    border: none;\n",
       "}\n",
       "table.dataframe td, table.dataframe th {\n",
       "    margin: 0;\n",
       "    border: 1px solid white;\n",
       "    padding-left: 0.25em;\n",
       "    padding-right: 0.25em;\n",
       "}\n",
       "table.dataframe th:not(:empty) {\n",
       "    background-color: #789377;\n",
       "    text-align: left;\n",
       "    font-weight: bold;\n",
       "    color: white;\n",
       "}\n",
       "table.dataframe tr:nth-child(2) th:empty {\n",
       "    border-left: none;\n",
       "    border-right: 1px dashed #888;\n",
       "}\n",
       "table.dataframe td {\n",
       "    border: 2px solid #ccf;\n",
       "    background-color: #f4f4ff;\n",
       "}\n",
       "h3 {\n",
       "    color: white;\n",
       "    background-color: black;\n",
       "    padding: 0.5em;\n",
       "}\n",
       "</style>"
      ],
      "text/plain": [
       "<IPython.core.display.HTML object>"
      ]
     },
     "execution_count": 68,
     "metadata": {},
     "output_type": "execute_result"
    }
   ],
   "source": [
    "from IPython.core.display import HTML\n",
    "css = open('style-table.css').read() + open('style-notebook.css').read()\n",
    "HTML('<style>{}</style>'.format(css))"
   ]
  },
  {
   "cell_type": "code",
   "execution_count": 69,
   "metadata": {},
   "outputs": [
    {
     "name": "stdout",
     "output_type": "stream",
     "text": [
      "CPU times: user 5.16 s, sys: 597 ms, total: 5.75 s\n",
      "Wall time: 5.78 s\n"
     ]
    }
   ],
   "source": [
    "%%time\n",
    "cast = pd.DataFrame.from_csv('data/cast.csv', index_col=None)"
   ]
  },
  {
   "cell_type": "code",
   "execution_count": 70,
   "metadata": {},
   "outputs": [
    {
     "data": {
      "text/html": [
       "<div>\n",
       "<style>\n",
       "    .dataframe thead tr:only-child th {\n",
       "        text-align: right;\n",
       "    }\n",
       "\n",
       "    .dataframe thead th {\n",
       "        text-align: left;\n",
       "    }\n",
       "\n",
       "    .dataframe tbody tr th {\n",
       "        vertical-align: top;\n",
       "    }\n",
       "</style>\n",
       "<table border=\"1\" class=\"dataframe\">\n",
       "  <thead>\n",
       "    <tr style=\"text-align: right;\">\n",
       "      <th></th>\n",
       "      <th>title</th>\n",
       "      <th>year</th>\n",
       "      <th>name</th>\n",
       "      <th>type</th>\n",
       "      <th>character</th>\n",
       "      <th>n</th>\n",
       "    </tr>\n",
       "  </thead>\n",
       "  <tbody>\n",
       "    <tr>\n",
       "      <th>0</th>\n",
       "      <td>Closet Monster</td>\n",
       "      <td>2015</td>\n",
       "      <td>Buffy #1</td>\n",
       "      <td>actor</td>\n",
       "      <td>Buffy 4</td>\n",
       "      <td>31.0</td>\n",
       "    </tr>\n",
       "    <tr>\n",
       "      <th>1</th>\n",
       "      <td>Suuri illusioni</td>\n",
       "      <td>1985</td>\n",
       "      <td>Homo $</td>\n",
       "      <td>actor</td>\n",
       "      <td>Guests</td>\n",
       "      <td>22.0</td>\n",
       "    </tr>\n",
       "    <tr>\n",
       "      <th>2</th>\n",
       "      <td>Battle of the Sexes</td>\n",
       "      <td>2017</td>\n",
       "      <td>$hutter</td>\n",
       "      <td>actor</td>\n",
       "      <td>Bobby Riggs Fan</td>\n",
       "      <td>10.0</td>\n",
       "    </tr>\n",
       "    <tr>\n",
       "      <th>3</th>\n",
       "      <td>Secret in Their Eyes</td>\n",
       "      <td>2015</td>\n",
       "      <td>$hutter</td>\n",
       "      <td>actor</td>\n",
       "      <td>2002 Dodger Fan</td>\n",
       "      <td>NaN</td>\n",
       "    </tr>\n",
       "    <tr>\n",
       "      <th>4</th>\n",
       "      <td>Steve Jobs</td>\n",
       "      <td>2015</td>\n",
       "      <td>$hutter</td>\n",
       "      <td>actor</td>\n",
       "      <td>1988 Opera House Patron</td>\n",
       "      <td>NaN</td>\n",
       "    </tr>\n",
       "  </tbody>\n",
       "</table>\n",
       "</div>"
      ],
      "text/plain": [
       "                  title  year      name   type                character     n\n",
       "0        Closet Monster  2015  Buffy #1  actor                  Buffy 4  31.0\n",
       "1       Suuri illusioni  1985    Homo $  actor                   Guests  22.0\n",
       "2   Battle of the Sexes  2017   $hutter  actor          Bobby Riggs Fan  10.0\n",
       "3  Secret in Their Eyes  2015   $hutter  actor          2002 Dodger Fan   NaN\n",
       "4            Steve Jobs  2015   $hutter  actor  1988 Opera House Patron   NaN"
      ]
     },
     "execution_count": 70,
     "metadata": {},
     "output_type": "execute_result"
    }
   ],
   "source": [
    "cast.head()"
   ]
  },
  {
   "cell_type": "code",
   "execution_count": 71,
   "metadata": {},
   "outputs": [
    {
     "name": "stdout",
     "output_type": "stream",
     "text": [
      "CPU times: user 569 ms, sys: 62.3 ms, total: 632 ms\n",
      "Wall time: 631 ms\n"
     ]
    }
   ],
   "source": [
    "%%time\n",
    "release_dates = pd.read_csv('data/release_dates.csv', index_col=None,\n",
    "                            parse_dates=['date'], infer_datetime_format=True)"
   ]
  },
  {
   "cell_type": "code",
   "execution_count": 72,
   "metadata": {},
   "outputs": [
    {
     "data": {
      "text/html": [
       "<div>\n",
       "<style>\n",
       "    .dataframe thead tr:only-child th {\n",
       "        text-align: right;\n",
       "    }\n",
       "\n",
       "    .dataframe thead th {\n",
       "        text-align: left;\n",
       "    }\n",
       "\n",
       "    .dataframe tbody tr th {\n",
       "        vertical-align: top;\n",
       "    }\n",
       "</style>\n",
       "<table border=\"1\" class=\"dataframe\">\n",
       "  <thead>\n",
       "    <tr style=\"text-align: right;\">\n",
       "      <th></th>\n",
       "      <th>title</th>\n",
       "      <th>year</th>\n",
       "      <th>country</th>\n",
       "      <th>date</th>\n",
       "    </tr>\n",
       "  </thead>\n",
       "  <tbody>\n",
       "    <tr>\n",
       "      <th>0</th>\n",
       "      <td>#73, Shaanthi Nivaasa</td>\n",
       "      <td>2007</td>\n",
       "      <td>India</td>\n",
       "      <td>2007-06-15</td>\n",
       "    </tr>\n",
       "    <tr>\n",
       "      <th>1</th>\n",
       "      <td>#Beings</td>\n",
       "      <td>2015</td>\n",
       "      <td>Romania</td>\n",
       "      <td>2015-01-29</td>\n",
       "    </tr>\n",
       "    <tr>\n",
       "      <th>2</th>\n",
       "      <td>#Ewankosau saranghaeyo</td>\n",
       "      <td>2015</td>\n",
       "      <td>Philippines</td>\n",
       "      <td>2015-01-21</td>\n",
       "    </tr>\n",
       "    <tr>\n",
       "      <th>3</th>\n",
       "      <td>#Horror</td>\n",
       "      <td>2015</td>\n",
       "      <td>USA</td>\n",
       "      <td>2015-11-20</td>\n",
       "    </tr>\n",
       "    <tr>\n",
       "      <th>4</th>\n",
       "      <td>#Horror</td>\n",
       "      <td>2015</td>\n",
       "      <td>UK</td>\n",
       "      <td>2016-05-16</td>\n",
       "    </tr>\n",
       "  </tbody>\n",
       "</table>\n",
       "</div>"
      ],
      "text/plain": [
       "                    title  year      country       date\n",
       "0   #73, Shaanthi Nivaasa  2007        India 2007-06-15\n",
       "1                 #Beings  2015      Romania 2015-01-29\n",
       "2  #Ewankosau saranghaeyo  2015  Philippines 2015-01-21\n",
       "3                 #Horror  2015          USA 2015-11-20\n",
       "4                 #Horror  2015           UK 2016-05-16"
      ]
     },
     "execution_count": 72,
     "metadata": {},
     "output_type": "execute_result"
    }
   ],
   "source": [
    "release_dates.head()"
   ]
  },
  {
   "cell_type": "code",
   "execution_count": 73,
   "metadata": {},
   "outputs": [
    {
     "data": {
      "text/html": [
       "<div>\n",
       "<style>\n",
       "    .dataframe thead tr:only-child th {\n",
       "        text-align: right;\n",
       "    }\n",
       "\n",
       "    .dataframe thead th {\n",
       "        text-align: left;\n",
       "    }\n",
       "\n",
       "    .dataframe tbody tr th {\n",
       "        vertical-align: top;\n",
       "    }\n",
       "</style>\n",
       "<table border=\"1\" class=\"dataframe\">\n",
       "  <thead>\n",
       "    <tr style=\"text-align: right;\">\n",
       "      <th></th>\n",
       "      <th>title</th>\n",
       "      <th>year</th>\n",
       "    </tr>\n",
       "  </thead>\n",
       "  <tbody>\n",
       "    <tr>\n",
       "      <th>0</th>\n",
       "      <td>Closet Monster</td>\n",
       "      <td>2015</td>\n",
       "    </tr>\n",
       "    <tr>\n",
       "      <th>1</th>\n",
       "      <td>Suuri illusioni</td>\n",
       "      <td>1985</td>\n",
       "    </tr>\n",
       "    <tr>\n",
       "      <th>2</th>\n",
       "      <td>Battle of the Sexes</td>\n",
       "      <td>2017</td>\n",
       "    </tr>\n",
       "    <tr>\n",
       "      <th>3</th>\n",
       "      <td>Secret in Their Eyes</td>\n",
       "      <td>2015</td>\n",
       "    </tr>\n",
       "    <tr>\n",
       "      <th>4</th>\n",
       "      <td>Steve Jobs</td>\n",
       "      <td>2015</td>\n",
       "    </tr>\n",
       "  </tbody>\n",
       "</table>\n",
       "</div>"
      ],
      "text/plain": [
       "                  title  year\n",
       "0        Closet Monster  2015\n",
       "1       Suuri illusioni  1985\n",
       "2   Battle of the Sexes  2017\n",
       "3  Secret in Their Eyes  2015\n",
       "4            Steve Jobs  2015"
      ]
     },
     "execution_count": 73,
     "metadata": {},
     "output_type": "execute_result"
    }
   ],
   "source": [
    "titles = cast[['title', 'year']].drop_duplicates().reset_index(drop=True)\n",
    "titles.head()"
   ]
  },
  {
   "cell_type": "markdown",
   "metadata": {},
   "source": [
    "### Years"
   ]
  },
  {
   "cell_type": "code",
   "execution_count": 74,
   "metadata": {},
   "outputs": [
    {
     "data": {
      "text/plain": [
       "193679"
      ]
     },
     "execution_count": 74,
     "metadata": {},
     "output_type": "execute_result"
    }
   ],
   "source": [
    "# 1. How many movies are listed in the `titles` dataframe?\n",
    "\n",
    "len(titles)"
   ]
  },
  {
   "cell_type": "code",
   "execution_count": 75,
   "metadata": {},
   "outputs": [
    {
     "data": {
      "text/html": [
       "<div>\n",
       "<style>\n",
       "    .dataframe thead tr:only-child th {\n",
       "        text-align: right;\n",
       "    }\n",
       "\n",
       "    .dataframe thead th {\n",
       "        text-align: left;\n",
       "    }\n",
       "\n",
       "    .dataframe tbody tr th {\n",
       "        vertical-align: top;\n",
       "    }\n",
       "</style>\n",
       "<table border=\"1\" class=\"dataframe\">\n",
       "  <thead>\n",
       "    <tr style=\"text-align: right;\">\n",
       "      <th></th>\n",
       "      <th>title</th>\n",
       "      <th>year</th>\n",
       "    </tr>\n",
       "  </thead>\n",
       "  <tbody>\n",
       "    <tr>\n",
       "      <th>138256</th>\n",
       "      <td>Miss Jerry</td>\n",
       "      <td>1894</td>\n",
       "    </tr>\n",
       "  </tbody>\n",
       "</table>\n",
       "</div>"
      ],
      "text/plain": [
       "             title  year\n",
       "138256  Miss Jerry  1894"
      ]
     },
     "execution_count": 75,
     "metadata": {},
     "output_type": "execute_result"
    }
   ],
   "source": [
    "# 1. What is the name and year of the very first movie ever made?\n",
    "\n",
    "titles.sort_values('year').head(1)"
   ]
  },
  {
   "cell_type": "code",
   "execution_count": 76,
   "metadata": {},
   "outputs": [
    {
     "data": {
      "text/html": [
       "<div>\n",
       "<style>\n",
       "    .dataframe thead tr:only-child th {\n",
       "        text-align: right;\n",
       "    }\n",
       "\n",
       "    .dataframe thead th {\n",
       "        text-align: left;\n",
       "    }\n",
       "\n",
       "    .dataframe tbody tr th {\n",
       "        vertical-align: top;\n",
       "    }\n",
       "</style>\n",
       "<table border=\"1\" class=\"dataframe\">\n",
       "  <thead>\n",
       "    <tr style=\"text-align: right;\">\n",
       "      <th></th>\n",
       "      <th>title</th>\n",
       "      <th>year</th>\n",
       "    </tr>\n",
       "  </thead>\n",
       "  <tbody>\n",
       "    <tr>\n",
       "      <th>24131</th>\n",
       "      <td>Inside Me</td>\n",
       "      <td>2024</td>\n",
       "    </tr>\n",
       "    <tr>\n",
       "      <th>140158</th>\n",
       "      <td>Avatar 5</td>\n",
       "      <td>2025</td>\n",
       "    </tr>\n",
       "    <tr>\n",
       "      <th>178070</th>\n",
       "      <td>100 Years</td>\n",
       "      <td>2115</td>\n",
       "    </tr>\n",
       "  </tbody>\n",
       "</table>\n",
       "</div>"
      ],
      "text/plain": [
       "            title  year\n",
       "24131   Inside Me  2024\n",
       "140158   Avatar 5  2025\n",
       "178070  100 Years  2115"
      ]
     },
     "execution_count": 76,
     "metadata": {},
     "output_type": "execute_result"
    }
   ],
   "source": [
    "# 1. How many years into the future does the IMDB database list movie titles?\n",
    "\n",
    "titles.sort_values('year').tail(3)#.year - 2015"
   ]
  },
  {
   "cell_type": "code",
   "execution_count": 77,
   "metadata": {},
   "outputs": [
    {
     "data": {
      "text/plain": [
       "921"
      ]
     },
     "execution_count": 77,
     "metadata": {},
     "output_type": "execute_result"
    }
   ],
   "source": [
    "# 1. How many movies listed in `titles` came out in 1950?\n",
    "\n",
    "len(titles[titles.year == 1950])\n",
    "\n",
    "# or: (titles.year == 1950).sum()"
   ]
  },
  {
   "cell_type": "code",
   "execution_count": 78,
   "metadata": {},
   "outputs": [
    {
     "data": {
      "text/plain": [
       "1113"
      ]
     },
     "execution_count": 78,
     "metadata": {},
     "output_type": "execute_result"
    }
   ],
   "source": [
    "# 1. How many movies came out in 1960?\n",
    "\n",
    "len(titles[titles.year == 1960])"
   ]
  },
  {
   "cell_type": "code",
   "execution_count": 79,
   "metadata": {},
   "outputs": [
    {
     "name": "stdout",
     "output_type": "stream",
     "text": [
      "1970 1560\n",
      "1971 1418\n",
      "1972 1480\n",
      "1973 1505\n",
      "1974 1484\n",
      "1975 1313\n",
      "1976 1341\n",
      "1977 1310\n",
      "1978 1303\n",
      "1979 1347\n"
     ]
    }
   ],
   "source": [
    "# 1. How many movies came out in each year of the 1970s?\n",
    "#    (Hint: try a Python \"for\" loop.)\n",
    "\n",
    "for y in range(1970, 1980):\n",
    "    print(y, (titles.year == y).sum())"
   ]
  },
  {
   "cell_type": "code",
   "execution_count": 80,
   "metadata": {},
   "outputs": [
    {
     "data": {
      "text/plain": [
       "94966"
      ]
     },
     "execution_count": 80,
     "metadata": {},
     "output_type": "execute_result"
    }
   ],
   "source": [
    "# 1. How many movies came out during your own lifetime,\n",
    "#    from the year of your birth through 2014?\n",
    "\n",
    "len(titles[(titles.year >= 1984) & (titles.year <= 2014)])"
   ]
  },
  {
   "cell_type": "code",
   "execution_count": 81,
   "metadata": {},
   "outputs": [
    {
     "data": {
      "text/plain": [
       "1970    1560\n",
       "1971    1418\n",
       "1972    1480\n",
       "1973    1505\n",
       "1974    1484\n",
       "1975    1313\n",
       "1976    1341\n",
       "1977    1310\n",
       "1978    1303\n",
       "1979    1347\n",
       "Name: year, dtype: int64"
      ]
     },
     "execution_count": 81,
     "metadata": {},
     "output_type": "execute_result"
    }
   ],
   "source": [
    "# 2. Use \"value_counts\" to determine how many movies came out\n",
    "#    in each year of the 1970s.\n",
    "\n",
    "titles[titles.year // 10 == 197].year.value_counts().sort_index()"
   ]
  },
  {
   "cell_type": "code",
   "execution_count": 82,
   "metadata": {},
   "outputs": [
    {
     "data": {
      "text/plain": [
       "year\n",
       "1970    1560\n",
       "1971    1418\n",
       "1972    1480\n",
       "1973    1505\n",
       "1974    1484\n",
       "1975    1313\n",
       "1976    1341\n",
       "1977    1310\n",
       "1978    1303\n",
       "1979    1347\n",
       "dtype: int64"
      ]
     },
     "execution_count": 82,
     "metadata": {},
     "output_type": "execute_result"
    }
   ],
   "source": [
    "# 3. Use \"groupby\" to determine how many movies came out in each year of the 1970s.\n",
    "\n",
    "titles.groupby('year').size().loc[1970:1979]"
   ]
  },
  {
   "cell_type": "code",
   "execution_count": null,
   "metadata": {
    "collapsed": true
   },
   "outputs": [],
   "source": []
  },
  {
   "cell_type": "markdown",
   "metadata": {
    "collapsed": true
   },
   "source": [
    "### Titles"
   ]
  },
  {
   "cell_type": "code",
   "execution_count": 83,
   "metadata": {},
   "outputs": [
    {
     "data": {
      "text/html": [
       "<div>\n",
       "<style>\n",
       "    .dataframe thead tr:only-child th {\n",
       "        text-align: right;\n",
       "    }\n",
       "\n",
       "    .dataframe thead th {\n",
       "        text-align: left;\n",
       "    }\n",
       "\n",
       "    .dataframe tbody tr th {\n",
       "        vertical-align: top;\n",
       "    }\n",
       "</style>\n",
       "<table border=\"1\" class=\"dataframe\">\n",
       "  <thead>\n",
       "    <tr style=\"text-align: right;\">\n",
       "      <th></th>\n",
       "      <th>title</th>\n",
       "    </tr>\n",
       "  </thead>\n",
       "  <tbody>\n",
       "    <tr>\n",
       "      <th>120962</th>\n",
       "      <td>The Story of the Kelly Gang</td>\n",
       "    </tr>\n",
       "    <tr>\n",
       "      <th>138256</th>\n",
       "      <td>Miss Jerry</td>\n",
       "    </tr>\n",
       "    <tr>\n",
       "      <th>148633</th>\n",
       "      <td>Valsons</td>\n",
       "    </tr>\n",
       "    <tr>\n",
       "      <th>158286</th>\n",
       "      <td>The Joe Gans-Battling Nelson Fight</td>\n",
       "    </tr>\n",
       "    <tr>\n",
       "      <th>175334</th>\n",
       "      <td>Lika mot lika</td>\n",
       "    </tr>\n",
       "    <tr>\n",
       "      <th>182968</th>\n",
       "      <td>Soldiers of the Cross</td>\n",
       "    </tr>\n",
       "  </tbody>\n",
       "</table>\n",
       "</div>"
      ],
      "text/plain": [
       "                                     title\n",
       "120962         The Story of the Kelly Gang\n",
       "138256                          Miss Jerry\n",
       "148633                             Valsons\n",
       "158286  The Joe Gans-Battling Nelson Fight\n",
       "175334                       Lika mot lika\n",
       "182968               Soldiers of the Cross"
      ]
     },
     "execution_count": 83,
     "metadata": {},
     "output_type": "execute_result"
    }
   ],
   "source": [
    "# 1. What are the names of the movies made through 1906?\n",
    "\n",
    "titles[titles.year <= 1906][['title']]"
   ]
  },
  {
   "cell_type": "code",
   "execution_count": 84,
   "metadata": {},
   "outputs": [
    {
     "data": {
      "text/html": [
       "<div>\n",
       "<style>\n",
       "    .dataframe thead tr:only-child th {\n",
       "        text-align: right;\n",
       "    }\n",
       "\n",
       "    .dataframe thead th {\n",
       "        text-align: left;\n",
       "    }\n",
       "\n",
       "    .dataframe tbody tr th {\n",
       "        vertical-align: top;\n",
       "    }\n",
       "</style>\n",
       "<table border=\"1\" class=\"dataframe\">\n",
       "  <thead>\n",
       "    <tr style=\"text-align: right;\">\n",
       "      <th></th>\n",
       "      <th>title</th>\n",
       "      <th>year</th>\n",
       "    </tr>\n",
       "  </thead>\n",
       "  <tbody>\n",
       "    <tr>\n",
       "      <th>4905</th>\n",
       "      <td>Star Trek: Insurrection</td>\n",
       "      <td>1998</td>\n",
       "    </tr>\n",
       "    <tr>\n",
       "      <th>5479</th>\n",
       "      <td>Star Trek</td>\n",
       "      <td>2009</td>\n",
       "    </tr>\n",
       "    <tr>\n",
       "      <th>5480</th>\n",
       "      <td>Star Trek Into Darkness</td>\n",
       "      <td>2013</td>\n",
       "    </tr>\n",
       "    <tr>\n",
       "      <th>11752</th>\n",
       "      <td>Star Trek IV: The Voyage Home</td>\n",
       "      <td>1986</td>\n",
       "    </tr>\n",
       "    <tr>\n",
       "      <th>19257</th>\n",
       "      <td>Star Trek Beyond</td>\n",
       "      <td>2016</td>\n",
       "    </tr>\n",
       "    <tr>\n",
       "      <th>25843</th>\n",
       "      <td>Star Trek: Generations</td>\n",
       "      <td>1994</td>\n",
       "    </tr>\n",
       "    <tr>\n",
       "      <th>26287</th>\n",
       "      <td>Star Trek: Captain Pike</td>\n",
       "      <td>2016</td>\n",
       "    </tr>\n",
       "    <tr>\n",
       "      <th>32086</th>\n",
       "      <td>Star Trek III: The Search for Spock</td>\n",
       "      <td>1984</td>\n",
       "    </tr>\n",
       "    <tr>\n",
       "      <th>39915</th>\n",
       "      <td>Star Trek: First Contact</td>\n",
       "      <td>1996</td>\n",
       "    </tr>\n",
       "    <tr>\n",
       "      <th>42116</th>\n",
       "      <td>Star Trek: Horizon</td>\n",
       "      <td>2016</td>\n",
       "    </tr>\n",
       "    <tr>\n",
       "      <th>46076</th>\n",
       "      <td>Star Wars</td>\n",
       "      <td>1977</td>\n",
       "    </tr>\n",
       "    <tr>\n",
       "      <th>55289</th>\n",
       "      <td>Star Trek: The Motion Picture</td>\n",
       "      <td>1979</td>\n",
       "    </tr>\n",
       "    <tr>\n",
       "      <th>61621</th>\n",
       "      <td>Star Trek VI: The Undiscovered Country</td>\n",
       "      <td>1991</td>\n",
       "    </tr>\n",
       "    <tr>\n",
       "      <th>70328</th>\n",
       "      <td>Star Trek: Nemesis</td>\n",
       "      <td>2002</td>\n",
       "    </tr>\n",
       "    <tr>\n",
       "      <th>86491</th>\n",
       "      <td>Star Trek I: Specter of the Past</td>\n",
       "      <td>2010</td>\n",
       "    </tr>\n",
       "    <tr>\n",
       "      <th>90847</th>\n",
       "      <td>Star Trek V: The Final Frontier</td>\n",
       "      <td>1989</td>\n",
       "    </tr>\n",
       "    <tr>\n",
       "      <th>103975</th>\n",
       "      <td>Star Trek: The Wrath of Khan</td>\n",
       "      <td>1982</td>\n",
       "    </tr>\n",
       "    <tr>\n",
       "      <th>106168</th>\n",
       "      <td>Star Trek: Operation Beta Shield</td>\n",
       "      <td>2008</td>\n",
       "    </tr>\n",
       "    <tr>\n",
       "      <th>116107</th>\n",
       "      <td>Star Trip</td>\n",
       "      <td>2012</td>\n",
       "    </tr>\n",
       "    <tr>\n",
       "      <th>116289</th>\n",
       "      <td>Star Trek: Temporal Anomaly</td>\n",
       "      <td>2015</td>\n",
       "    </tr>\n",
       "    <tr>\n",
       "      <th>149549</th>\n",
       "      <td>Star Vehicle</td>\n",
       "      <td>2010</td>\n",
       "    </tr>\n",
       "  </tbody>\n",
       "</table>\n",
       "</div>"
      ],
      "text/plain": [
       "                                         title  year\n",
       "4905                   Star Trek: Insurrection  1998\n",
       "5479                                 Star Trek  2009\n",
       "5480                   Star Trek Into Darkness  2013\n",
       "11752            Star Trek IV: The Voyage Home  1986\n",
       "19257                         Star Trek Beyond  2016\n",
       "25843                   Star Trek: Generations  1994\n",
       "26287                  Star Trek: Captain Pike  2016\n",
       "32086      Star Trek III: The Search for Spock  1984\n",
       "39915                 Star Trek: First Contact  1996\n",
       "42116                       Star Trek: Horizon  2016\n",
       "46076                                Star Wars  1977\n",
       "55289            Star Trek: The Motion Picture  1979\n",
       "61621   Star Trek VI: The Undiscovered Country  1991\n",
       "70328                       Star Trek: Nemesis  2002\n",
       "86491         Star Trek I: Specter of the Past  2010\n",
       "90847          Star Trek V: The Final Frontier  1989\n",
       "103975            Star Trek: The Wrath of Khan  1982\n",
       "106168        Star Trek: Operation Beta Shield  2008\n",
       "116107                               Star Trip  2012\n",
       "116289             Star Trek: Temporal Anomaly  2015\n",
       "149549                            Star Vehicle  2010"
      ]
     },
     "execution_count": 84,
     "metadata": {},
     "output_type": "execute_result"
    }
   ],
   "source": [
    "# 1. What movies have titles that fall between Star Trek and Star Wars in the alphabet?\n",
    "\n",
    "titles[(titles.title >= 'Star Trek') & (titles.title <= 'Star Wars')]"
   ]
  },
  {
   "cell_type": "code",
   "execution_count": 85,
   "metadata": {},
   "outputs": [
    {
     "data": {
      "text/html": [
       "<div>\n",
       "<style>\n",
       "    .dataframe thead tr:only-child th {\n",
       "        text-align: right;\n",
       "    }\n",
       "\n",
       "    .dataframe thead th {\n",
       "        text-align: left;\n",
       "    }\n",
       "\n",
       "    .dataframe tbody tr th {\n",
       "        vertical-align: top;\n",
       "    }\n",
       "</style>\n",
       "<table border=\"1\" class=\"dataframe\">\n",
       "  <thead>\n",
       "    <tr style=\"text-align: right;\">\n",
       "      <th></th>\n",
       "      <th>year</th>\n",
       "    </tr>\n",
       "    <tr>\n",
       "      <th>title</th>\n",
       "      <th></th>\n",
       "    </tr>\n",
       "  </thead>\n",
       "  <tbody>\n",
       "    <tr>\n",
       "      <th>Star Trek</th>\n",
       "      <td>2009</td>\n",
       "    </tr>\n",
       "    <tr>\n",
       "      <th>Star Trek Beyond</th>\n",
       "      <td>2016</td>\n",
       "    </tr>\n",
       "    <tr>\n",
       "      <th>Star Trek I: Specter of the Past</th>\n",
       "      <td>2010</td>\n",
       "    </tr>\n",
       "    <tr>\n",
       "      <th>Star Trek III: The Search for Spock</th>\n",
       "      <td>1984</td>\n",
       "    </tr>\n",
       "    <tr>\n",
       "      <th>Star Trek IV: The Voyage Home</th>\n",
       "      <td>1986</td>\n",
       "    </tr>\n",
       "    <tr>\n",
       "      <th>Star Trek Into Darkness</th>\n",
       "      <td>2013</td>\n",
       "    </tr>\n",
       "    <tr>\n",
       "      <th>Star Trek V: The Final Frontier</th>\n",
       "      <td>1989</td>\n",
       "    </tr>\n",
       "    <tr>\n",
       "      <th>Star Trek VI: The Undiscovered Country</th>\n",
       "      <td>1991</td>\n",
       "    </tr>\n",
       "    <tr>\n",
       "      <th>Star Trek: Captain Pike</th>\n",
       "      <td>2016</td>\n",
       "    </tr>\n",
       "    <tr>\n",
       "      <th>Star Trek: First Contact</th>\n",
       "      <td>1996</td>\n",
       "    </tr>\n",
       "    <tr>\n",
       "      <th>Star Trek: Generations</th>\n",
       "      <td>1994</td>\n",
       "    </tr>\n",
       "    <tr>\n",
       "      <th>Star Trek: Horizon</th>\n",
       "      <td>2016</td>\n",
       "    </tr>\n",
       "    <tr>\n",
       "      <th>Star Trek: Insurrection</th>\n",
       "      <td>1998</td>\n",
       "    </tr>\n",
       "    <tr>\n",
       "      <th>Star Trek: Nemesis</th>\n",
       "      <td>2002</td>\n",
       "    </tr>\n",
       "    <tr>\n",
       "      <th>Star Trek: Operation Beta Shield</th>\n",
       "      <td>2008</td>\n",
       "    </tr>\n",
       "    <tr>\n",
       "      <th>Star Trek: Temporal Anomaly</th>\n",
       "      <td>2015</td>\n",
       "    </tr>\n",
       "    <tr>\n",
       "      <th>Star Trek: The Motion Picture</th>\n",
       "      <td>1979</td>\n",
       "    </tr>\n",
       "    <tr>\n",
       "      <th>Star Trek: The Wrath of Khan</th>\n",
       "      <td>1982</td>\n",
       "    </tr>\n",
       "    <tr>\n",
       "      <th>Star Trip</th>\n",
       "      <td>2012</td>\n",
       "    </tr>\n",
       "    <tr>\n",
       "      <th>Star Vehicle</th>\n",
       "      <td>2010</td>\n",
       "    </tr>\n",
       "    <tr>\n",
       "      <th>Star Wars</th>\n",
       "      <td>1977</td>\n",
       "    </tr>\n",
       "  </tbody>\n",
       "</table>\n",
       "</div>"
      ],
      "text/plain": [
       "                                        year\n",
       "title                                       \n",
       "Star Trek                               2009\n",
       "Star Trek Beyond                        2016\n",
       "Star Trek I: Specter of the Past        2010\n",
       "Star Trek III: The Search for Spock     1984\n",
       "Star Trek IV: The Voyage Home           1986\n",
       "Star Trek Into Darkness                 2013\n",
       "Star Trek V: The Final Frontier         1989\n",
       "Star Trek VI: The Undiscovered Country  1991\n",
       "Star Trek: Captain Pike                 2016\n",
       "Star Trek: First Contact                1996\n",
       "Star Trek: Generations                  1994\n",
       "Star Trek: Horizon                      2016\n",
       "Star Trek: Insurrection                 1998\n",
       "Star Trek: Nemesis                      2002\n",
       "Star Trek: Operation Beta Shield        2008\n",
       "Star Trek: Temporal Anomaly             2015\n",
       "Star Trek: The Motion Picture           1979\n",
       "Star Trek: The Wrath of Khan            1982\n",
       "Star Trip                               2012\n",
       "Star Vehicle                            2010\n",
       "Star Wars                               1977"
      ]
     },
     "execution_count": 85,
     "metadata": {},
     "output_type": "execute_result"
    }
   ],
   "source": [
    "# 2. Use an index and .loc[] to find the movies whose titles fall between Star Trek\n",
    "#    and Star Wars in the alphabet.\n",
    "\n",
    "t = titles.copy()\n",
    "t = t.set_index('title').sort_index()\n",
    "t.loc['Star Trek':'Star Wars']"
   ]
  },
  {
   "cell_type": "code",
   "execution_count": 86,
   "metadata": {},
   "outputs": [
    {
     "data": {
      "text/html": [
       "<div>\n",
       "<style>\n",
       "    .dataframe thead tr:only-child th {\n",
       "        text-align: right;\n",
       "    }\n",
       "\n",
       "    .dataframe thead th {\n",
       "        text-align: left;\n",
       "    }\n",
       "\n",
       "    .dataframe tbody tr th {\n",
       "        vertical-align: top;\n",
       "    }\n",
       "</style>\n",
       "<table border=\"1\" class=\"dataframe\">\n",
       "  <thead>\n",
       "    <tr style=\"text-align: right;\">\n",
       "      <th></th>\n",
       "      <th>title</th>\n",
       "    </tr>\n",
       "    <tr>\n",
       "      <th>year</th>\n",
       "      <th></th>\n",
       "    </tr>\n",
       "  </thead>\n",
       "  <tbody>\n",
       "    <tr>\n",
       "      <th>1894</th>\n",
       "      <td>Miss Jerry</td>\n",
       "    </tr>\n",
       "    <tr>\n",
       "      <th>1900</th>\n",
       "      <td>Soldiers of the Cross</td>\n",
       "    </tr>\n",
       "    <tr>\n",
       "      <th>1905</th>\n",
       "      <td>Valsons</td>\n",
       "    </tr>\n",
       "    <tr>\n",
       "      <th>1906</th>\n",
       "      <td>Lika mot lika</td>\n",
       "    </tr>\n",
       "    <tr>\n",
       "      <th>1906</th>\n",
       "      <td>The Joe Gans-Battling Nelson Fight</td>\n",
       "    </tr>\n",
       "    <tr>\n",
       "      <th>1906</th>\n",
       "      <td>The Story of the Kelly Gang</td>\n",
       "    </tr>\n",
       "  </tbody>\n",
       "</table>\n",
       "</div>"
      ],
      "text/plain": [
       "                                   title\n",
       "year                                    \n",
       "1894                          Miss Jerry\n",
       "1900               Soldiers of the Cross\n",
       "1905                             Valsons\n",
       "1906                       Lika mot lika\n",
       "1906  The Joe Gans-Battling Nelson Fight\n",
       "1906         The Story of the Kelly Gang"
      ]
     },
     "execution_count": 86,
     "metadata": {},
     "output_type": "execute_result"
    }
   ],
   "source": [
    "# 2. Use an index and .loc[] to retrieve the names of the movies made through 1906.\n",
    "\n",
    "titles.set_index('year').sort_index().loc[1800:1906]"
   ]
  },
  {
   "cell_type": "code",
   "execution_count": 87,
   "metadata": {},
   "outputs": [
    {
     "data": {
      "text/plain": [
       "Hamlet                  20\n",
       "Macbeth                 15\n",
       "Carmen                  14\n",
       "The Outsider            12\n",
       "Maya                    12\n",
       "Othello                 11\n",
       "Temptation              10\n",
       "Anna Karenina           10\n",
       "She                     10\n",
       "Vengeance               10\n",
       "Paradise                10\n",
       "Amok                     9\n",
       "Damaged Goods            9\n",
       "The Three Musketeers     9\n",
       "Kismet                   9\n",
       "Name: title, dtype: int64"
      ]
     },
     "execution_count": 87,
     "metadata": {},
     "output_type": "execute_result"
    }
   ],
   "source": [
    "# 2. What are the 15 most common movie titles in film history?\n",
    "\n",
    "titles.title.value_counts().head(15)"
   ]
  },
  {
   "cell_type": "code",
   "execution_count": 88,
   "metadata": {},
   "outputs": [],
   "source": [
    "# Use this for session 3?\n",
    "\n",
    "i = cast.set_index('name').sort_index()"
   ]
  },
  {
   "cell_type": "code",
   "execution_count": 89,
   "metadata": {},
   "outputs": [
    {
     "data": {
      "text/html": [
       "<div>\n",
       "<style>\n",
       "    .dataframe thead tr:only-child th {\n",
       "        text-align: right;\n",
       "    }\n",
       "\n",
       "    .dataframe thead th {\n",
       "        text-align: left;\n",
       "    }\n",
       "\n",
       "    .dataframe tbody tr th {\n",
       "        vertical-align: top;\n",
       "    }\n",
       "</style>\n",
       "<table border=\"1\" class=\"dataframe\">\n",
       "  <thead>\n",
       "    <tr>\n",
       "      <th></th>\n",
       "      <th colspan=\"3\" halign=\"left\">n</th>\n",
       "    </tr>\n",
       "    <tr>\n",
       "      <th></th>\n",
       "      <th>min</th>\n",
       "      <th>mean</th>\n",
       "      <th>max</th>\n",
       "    </tr>\n",
       "    <tr>\n",
       "      <th>year</th>\n",
       "      <th></th>\n",
       "      <th></th>\n",
       "      <th></th>\n",
       "    </tr>\n",
       "  </thead>\n",
       "  <tbody>\n",
       "    <tr>\n",
       "      <th>1932</th>\n",
       "      <td>1.0</td>\n",
       "      <td>4.571429</td>\n",
       "      <td>9.0</td>\n",
       "    </tr>\n",
       "    <tr>\n",
       "      <th>1933</th>\n",
       "      <td>1.0</td>\n",
       "      <td>3.166667</td>\n",
       "      <td>10.0</td>\n",
       "    </tr>\n",
       "    <tr>\n",
       "      <th>1934</th>\n",
       "      <td>1.0</td>\n",
       "      <td>1.500000</td>\n",
       "      <td>2.0</td>\n",
       "    </tr>\n",
       "    <tr>\n",
       "      <th>1935</th>\n",
       "      <td>1.0</td>\n",
       "      <td>1.750000</td>\n",
       "      <td>2.0</td>\n",
       "    </tr>\n",
       "    <tr>\n",
       "      <th>1936</th>\n",
       "      <td>1.0</td>\n",
       "      <td>1.750000</td>\n",
       "      <td>3.0</td>\n",
       "    </tr>\n",
       "    <tr>\n",
       "      <th>1937</th>\n",
       "      <td>2.0</td>\n",
       "      <td>2.000000</td>\n",
       "      <td>2.0</td>\n",
       "    </tr>\n",
       "    <tr>\n",
       "      <th>1938</th>\n",
       "      <td>2.0</td>\n",
       "      <td>2.000000</td>\n",
       "      <td>2.0</td>\n",
       "    </tr>\n",
       "    <tr>\n",
       "      <th>1939</th>\n",
       "      <td>1.0</td>\n",
       "      <td>1.333333</td>\n",
       "      <td>2.0</td>\n",
       "    </tr>\n",
       "    <tr>\n",
       "      <th>1940</th>\n",
       "      <td>1.0</td>\n",
       "      <td>1.250000</td>\n",
       "      <td>2.0</td>\n",
       "    </tr>\n",
       "    <tr>\n",
       "      <th>1941</th>\n",
       "      <td>1.0</td>\n",
       "      <td>1.500000</td>\n",
       "      <td>2.0</td>\n",
       "    </tr>\n",
       "    <tr>\n",
       "      <th>1942</th>\n",
       "      <td>1.0</td>\n",
       "      <td>1.000000</td>\n",
       "      <td>1.0</td>\n",
       "    </tr>\n",
       "    <tr>\n",
       "      <th>1943</th>\n",
       "      <td>1.0</td>\n",
       "      <td>1.000000</td>\n",
       "      <td>1.0</td>\n",
       "    </tr>\n",
       "    <tr>\n",
       "      <th>1944</th>\n",
       "      <td>1.0</td>\n",
       "      <td>1.000000</td>\n",
       "      <td>1.0</td>\n",
       "    </tr>\n",
       "    <tr>\n",
       "      <th>1945</th>\n",
       "      <td>NaN</td>\n",
       "      <td>NaN</td>\n",
       "      <td>NaN</td>\n",
       "    </tr>\n",
       "    <tr>\n",
       "      <th>1946</th>\n",
       "      <td>1.0</td>\n",
       "      <td>1.000000</td>\n",
       "      <td>1.0</td>\n",
       "    </tr>\n",
       "    <tr>\n",
       "      <th>1947</th>\n",
       "      <td>1.0</td>\n",
       "      <td>1.000000</td>\n",
       "      <td>1.0</td>\n",
       "    </tr>\n",
       "    <tr>\n",
       "      <th>1948</th>\n",
       "      <td>1.0</td>\n",
       "      <td>1.000000</td>\n",
       "      <td>1.0</td>\n",
       "    </tr>\n",
       "    <tr>\n",
       "      <th>1949</th>\n",
       "      <td>1.0</td>\n",
       "      <td>1.000000</td>\n",
       "      <td>1.0</td>\n",
       "    </tr>\n",
       "    <tr>\n",
       "      <th>1950</th>\n",
       "      <td>1.0</td>\n",
       "      <td>1.000000</td>\n",
       "      <td>1.0</td>\n",
       "    </tr>\n",
       "    <tr>\n",
       "      <th>1951</th>\n",
       "      <td>1.0</td>\n",
       "      <td>1.000000</td>\n",
       "      <td>1.0</td>\n",
       "    </tr>\n",
       "    <tr>\n",
       "      <th>1952</th>\n",
       "      <td>1.0</td>\n",
       "      <td>1.000000</td>\n",
       "      <td>1.0</td>\n",
       "    </tr>\n",
       "    <tr>\n",
       "      <th>1953</th>\n",
       "      <td>1.0</td>\n",
       "      <td>1.000000</td>\n",
       "      <td>1.0</td>\n",
       "    </tr>\n",
       "    <tr>\n",
       "      <th>1955</th>\n",
       "      <td>1.0</td>\n",
       "      <td>1.000000</td>\n",
       "      <td>1.0</td>\n",
       "    </tr>\n",
       "    <tr>\n",
       "      <th>1957</th>\n",
       "      <td>1.0</td>\n",
       "      <td>1.000000</td>\n",
       "      <td>1.0</td>\n",
       "    </tr>\n",
       "    <tr>\n",
       "      <th>1958</th>\n",
       "      <td>1.0</td>\n",
       "      <td>1.000000</td>\n",
       "      <td>1.0</td>\n",
       "    </tr>\n",
       "    <tr>\n",
       "      <th>1959</th>\n",
       "      <td>1.0</td>\n",
       "      <td>1.000000</td>\n",
       "      <td>1.0</td>\n",
       "    </tr>\n",
       "    <tr>\n",
       "      <th>1960</th>\n",
       "      <td>1.0</td>\n",
       "      <td>1.000000</td>\n",
       "      <td>1.0</td>\n",
       "    </tr>\n",
       "    <tr>\n",
       "      <th>1962</th>\n",
       "      <td>1.0</td>\n",
       "      <td>1.000000</td>\n",
       "      <td>1.0</td>\n",
       "    </tr>\n",
       "    <tr>\n",
       "      <th>1963</th>\n",
       "      <td>1.0</td>\n",
       "      <td>1.000000</td>\n",
       "      <td>1.0</td>\n",
       "    </tr>\n",
       "    <tr>\n",
       "      <th>1964</th>\n",
       "      <td>1.0</td>\n",
       "      <td>1.000000</td>\n",
       "      <td>1.0</td>\n",
       "    </tr>\n",
       "    <tr>\n",
       "      <th>1966</th>\n",
       "      <td>1.0</td>\n",
       "      <td>1.000000</td>\n",
       "      <td>1.0</td>\n",
       "    </tr>\n",
       "    <tr>\n",
       "      <th>1981</th>\n",
       "      <td>NaN</td>\n",
       "      <td>NaN</td>\n",
       "      <td>NaN</td>\n",
       "    </tr>\n",
       "    <tr>\n",
       "      <th>1982</th>\n",
       "      <td>10.0</td>\n",
       "      <td>10.000000</td>\n",
       "      <td>10.0</td>\n",
       "    </tr>\n",
       "    <tr>\n",
       "      <th>1988</th>\n",
       "      <td>NaN</td>\n",
       "      <td>NaN</td>\n",
       "      <td>NaN</td>\n",
       "    </tr>\n",
       "    <tr>\n",
       "      <th>2015</th>\n",
       "      <td>NaN</td>\n",
       "      <td>NaN</td>\n",
       "      <td>NaN</td>\n",
       "    </tr>\n",
       "  </tbody>\n",
       "</table>\n",
       "</div>"
      ],
      "text/plain": [
       "         n                 \n",
       "       min       mean   max\n",
       "year                       \n",
       "1932   1.0   4.571429   9.0\n",
       "1933   1.0   3.166667  10.0\n",
       "1934   1.0   1.500000   2.0\n",
       "1935   1.0   1.750000   2.0\n",
       "1936   1.0   1.750000   3.0\n",
       "1937   2.0   2.000000   2.0\n",
       "1938   2.0   2.000000   2.0\n",
       "1939   1.0   1.333333   2.0\n",
       "1940   1.0   1.250000   2.0\n",
       "1941   1.0   1.500000   2.0\n",
       "1942   1.0   1.000000   1.0\n",
       "1943   1.0   1.000000   1.0\n",
       "1944   1.0   1.000000   1.0\n",
       "1945   NaN        NaN   NaN\n",
       "1946   1.0   1.000000   1.0\n",
       "1947   1.0   1.000000   1.0\n",
       "1948   1.0   1.000000   1.0\n",
       "1949   1.0   1.000000   1.0\n",
       "1950   1.0   1.000000   1.0\n",
       "1951   1.0   1.000000   1.0\n",
       "1952   1.0   1.000000   1.0\n",
       "1953   1.0   1.000000   1.0\n",
       "1955   1.0   1.000000   1.0\n",
       "1957   1.0   1.000000   1.0\n",
       "1958   1.0   1.000000   1.0\n",
       "1959   1.0   1.000000   1.0\n",
       "1960   1.0   1.000000   1.0\n",
       "1962   1.0   1.000000   1.0\n",
       "1963   1.0   1.000000   1.0\n",
       "1964   1.0   1.000000   1.0\n",
       "1966   1.0   1.000000   1.0\n",
       "1981   NaN        NaN   NaN\n",
       "1982  10.0  10.000000  10.0\n",
       "1988   NaN        NaN   NaN\n",
       "2015   NaN        NaN   NaN"
      ]
     },
     "execution_count": 89,
     "metadata": {},
     "output_type": "execute_result"
    },
    {
     "data": {
      "image/png": "[encoded data removed]",
      "text/plain": [
       "<matplotlib.figure.Figure at 0x13b705d68>"
      ]
     },
     "metadata": {},
     "output_type": "display_data"
    }
   ],
   "source": [
    "a = i.loc['Cary Grant',['year','n']].groupby('year').agg(['min', 'mean', 'max'])\n",
    "a.loc[:1942].plot(kind='area', stacked=False)\n",
    "a"
   ]
  },
  {
   "cell_type": "code",
   "execution_count": 90,
   "metadata": {
    "scrolled": false
   },
   "outputs": [
    {
     "data": {
      "text/html": [
       "<div>\n",
       "<style>\n",
       "    .dataframe thead tr:only-child th {\n",
       "        text-align: right;\n",
       "    }\n",
       "\n",
       "    .dataframe thead th {\n",
       "        text-align: left;\n",
       "    }\n",
       "\n",
       "    .dataframe tbody tr th {\n",
       "        vertical-align: top;\n",
       "    }\n",
       "</style>\n",
       "<table border=\"1\" class=\"dataframe\">\n",
       "  <thead>\n",
       "    <tr style=\"text-align: right;\">\n",
       "      <th></th>\n",
       "      <th>title</th>\n",
       "      <th>year</th>\n",
       "      <th>len</th>\n",
       "    </tr>\n",
       "  </thead>\n",
       "  <tbody>\n",
       "    <tr>\n",
       "      <th>184470</th>\n",
       "      <td>Night of the Day of the Dawn of the Son of the Bride of the Return of the Revenge of the Terror of the Attack of the Evil Mutant Hellbound Flesh Eating Crawling Alien Zombified Subhumanoid Living Dead, Part 5</td>\n",
       "      <td>2011</td>\n",
       "      <td>208</td>\n",
       "    </tr>\n",
       "    <tr>\n",
       "      <th>190521</th>\n",
       "      <td>Night of the Day of the Dawn of the Son of the Bride of the Return of the Revenge of the Terror of the Attack of the Evil, Mutant, Hellbound, Flesh-Eating Subhumanoid Zombified Living Dead, Part 3</td>\n",
       "      <td>2005</td>\n",
       "      <td>196</td>\n",
       "    </tr>\n",
       "    <tr>\n",
       "      <th>13887</th>\n",
       "      <td>Brigitte, Laura, Ursula, Monica, Raquel, Litz, Florinda, Barbara, Claudia, e Sofia le chiamo tutte... anima mia</td>\n",
       "      <td>1974</td>\n",
       "      <td>111</td>\n",
       "    </tr>\n",
       "    <tr>\n",
       "      <th>159657</th>\n",
       "      <td>Film d'amore e d'anarchia, ovvero 'stamattina alle 10 in via dei Fiori nella nota casa di tolleranza...'</td>\n",
       "      <td>1973</td>\n",
       "      <td>104</td>\n",
       "    </tr>\n",
       "    <tr>\n",
       "      <th>27588</th>\n",
       "      <td>Those Magnificent Men in Their Flying Machines or How I Flew from London to Paris in 25 hours 11 minutes</td>\n",
       "      <td>1965</td>\n",
       "      <td>104</td>\n",
       "    </tr>\n",
       "  </tbody>\n",
       "</table>\n",
       "</div>"
      ],
      "text/plain": [
       "                                                                                                                                                                                                                   title  \\\n",
       "184470  Night of the Day of the Dawn of the Son of the Bride of the Return of the Revenge of the Terror of the Attack of the Evil Mutant Hellbound Flesh Eating Crawling Alien Zombified Subhumanoid Living Dead, Part 5   \n",
       "190521              Night of the Day of the Dawn of the Son of the Bride of the Return of the Revenge of the Terror of the Attack of the Evil, Mutant, Hellbound, Flesh-Eating Subhumanoid Zombified Living Dead, Part 3   \n",
       "13887                                                                                                    Brigitte, Laura, Ursula, Monica, Raquel, Litz, Florinda, Barbara, Claudia, e Sofia le chiamo tutte... anima mia   \n",
       "159657                                                                                                          Film d'amore e d'anarchia, ovvero 'stamattina alle 10 in via dei Fiori nella nota casa di tolleranza...'   \n",
       "27588                                                                                                           Those Magnificent Men in Their Flying Machines or How I Flew from London to Paris in 25 hours 11 minutes   \n",
       "\n",
       "        year  len  \n",
       "184470  2011  208  \n",
       "190521  2005  196  \n",
       "13887   1974  111  \n",
       "159657  1973  104  \n",
       "27588   1965  104  "
      ]
     },
     "execution_count": 90,
     "metadata": {},
     "output_type": "execute_result"
    }
   ],
   "source": [
    "# 5. What are the 5 longest movie titles ever?\n",
    "\n",
    "pd.set_option('max_colwidth', 300)\n",
    "\n",
    "t = titles.copy()\n",
    "t['len'] = t.title.str.len()\n",
    "t = t.sort_values('len', ascending=False)\n",
    "t.head()"
   ]
  },
  {
   "cell_type": "code",
   "execution_count": 91,
   "metadata": {},
   "outputs": [
    {
     "name": "stderr",
     "output_type": "stream",
     "text": [
      "/Users/aelaibi/anaconda/lib/python3.6/site-packages/ipykernel_launcher.py:4: FutureWarning: currently extract(expand=None) means expand=False (return Index/Series/DataFrame) but in a future version of pandas this will be changed to expand=True (return DataFrame)\n",
      "  after removing the cwd from sys.path.\n"
     ]
    },
    {
     "data": {
      "text/plain": [
       "Hamlet           20\n",
       "Broken           19\n",
       "                 17\n",
       "Macbeth          15\n",
       "Carmen           14\n",
       "Alone            13\n",
       "Maya             12\n",
       "The Outsider     12\n",
       "Othello          11\n",
       "Temptation       10\n",
       "She              10\n",
       "Vengeance        10\n",
       "Paradise         10\n",
       "Gone             10\n",
       "Anna Karenina    10\n",
       "Name: title, dtype: int64"
      ]
     },
     "execution_count": 91,
     "metadata": {},
     "output_type": "execute_result"
    }
   ],
   "source": [
    "# 5. What are the 15 most popular movie titles, if you strip off the suffixes like\n",
    "#    (II) and (III) that the IMDB adds to distinguish movies shown in the same year?\n",
    "# , expand=False\n",
    "titles.title.str.extract('^([^(]*)').value_counts().head(15)"
   ]
  },
  {
   "cell_type": "markdown",
   "metadata": {},
   "source": [
    "### How many movies actors have been in"
   ]
  },
  {
   "cell_type": "code",
   "execution_count": 92,
   "metadata": {},
   "outputs": [
    {
     "data": {
      "text/plain": [
       "54"
      ]
     },
     "execution_count": 92,
     "metadata": {},
     "output_type": "execute_result"
    }
   ],
   "source": [
    "# 1. How many movies has Judi Dench acted in?\n",
    "\n",
    "len(cast[cast.name == 'Judi Dench'])"
   ]
  },
  {
   "cell_type": "code",
   "execution_count": 93,
   "metadata": {},
   "outputs": [
    {
     "data": {
      "text/plain": [
       "43"
      ]
     },
     "execution_count": 93,
     "metadata": {},
     "output_type": "execute_result"
    }
   ],
   "source": [
    "# 1. How many movies did Sidney Poitier appear in?\n",
    "\n",
    "c = cast\n",
    "c = c[c.name == 'Sidney Poitier']\n",
    "len(c)"
   ]
  },
  {
   "cell_type": "code",
   "execution_count": 94,
   "metadata": {},
   "outputs": [
    {
     "data": {
      "text/plain": [
       "21"
      ]
     },
     "execution_count": 94,
     "metadata": {},
     "output_type": "execute_result"
    }
   ],
   "source": [
    "# 1. In how many of his movies was Sidney Poitier the lead (`n==1`)?\n",
    "\n",
    "c = cast\n",
    "c = c[c.name == 'Sidney Poitier']\n",
    "c = c[c.n == 1]\n",
    "len(c)"
   ]
  },
  {
   "cell_type": "markdown",
   "metadata": {},
   "source": [
    "### Pulling and displaying movie credits"
   ]
  },
  {
   "cell_type": "code",
   "execution_count": 95,
   "metadata": {},
   "outputs": [
    {
     "data": {
      "text/html": [
       "<div>\n",
       "<style>\n",
       "    .dataframe thead tr:only-child th {\n",
       "        text-align: right;\n",
       "    }\n",
       "\n",
       "    .dataframe thead th {\n",
       "        text-align: left;\n",
       "    }\n",
       "\n",
       "    .dataframe tbody tr th {\n",
       "        vertical-align: top;\n",
       "    }\n",
       "</style>\n",
       "<table border=\"1\" class=\"dataframe\">\n",
       "  <thead>\n",
       "    <tr style=\"text-align: right;\">\n",
       "      <th></th>\n",
       "      <th>title</th>\n",
       "      <th>year</th>\n",
       "      <th>name</th>\n",
       "      <th>type</th>\n",
       "      <th>character</th>\n",
       "      <th>n</th>\n",
       "    </tr>\n",
       "  </thead>\n",
       "  <tbody>\n",
       "    <tr>\n",
       "      <th>2792928</th>\n",
       "      <td>Mrs Brown</td>\n",
       "      <td>1997</td>\n",
       "      <td>Judi Dench</td>\n",
       "      <td>actress</td>\n",
       "      <td>Queen Victoria</td>\n",
       "      <td>1.0</td>\n",
       "    </tr>\n",
       "    <tr>\n",
       "      <th>2792925</th>\n",
       "      <td>Ladies in Lavender</td>\n",
       "      <td>2004</td>\n",
       "      <td>Judi Dench</td>\n",
       "      <td>actress</td>\n",
       "      <td>Ursula</td>\n",
       "      <td>1.0</td>\n",
       "    </tr>\n",
       "    <tr>\n",
       "      <th>2792929</th>\n",
       "      <td>Mrs Henderson Presents</td>\n",
       "      <td>2005</td>\n",
       "      <td>Judi Dench</td>\n",
       "      <td>actress</td>\n",
       "      <td>Mrs. Laura Henderson</td>\n",
       "      <td>1.0</td>\n",
       "    </tr>\n",
       "    <tr>\n",
       "      <th>2792933</th>\n",
       "      <td>Notes on a Scandal</td>\n",
       "      <td>2006</td>\n",
       "      <td>Judi Dench</td>\n",
       "      <td>actress</td>\n",
       "      <td>Barbara Covett</td>\n",
       "      <td>1.0</td>\n",
       "    </tr>\n",
       "    <tr>\n",
       "      <th>2792946</th>\n",
       "      <td>The Best Exotic Marigold Hotel</td>\n",
       "      <td>2011</td>\n",
       "      <td>Judi Dench</td>\n",
       "      <td>actress</td>\n",
       "      <td>Evelyn Greenslade</td>\n",
       "      <td>1.0</td>\n",
       "    </tr>\n",
       "    <tr>\n",
       "      <th>2792934</th>\n",
       "      <td>Philomena</td>\n",
       "      <td>2013</td>\n",
       "      <td>Judi Dench</td>\n",
       "      <td>actress</td>\n",
       "      <td>Philomena</td>\n",
       "      <td>1.0</td>\n",
       "    </tr>\n",
       "    <tr>\n",
       "      <th>2792955</th>\n",
       "      <td>Victoria and Abdul</td>\n",
       "      <td>2017</td>\n",
       "      <td>Judi Dench</td>\n",
       "      <td>actress</td>\n",
       "      <td>Queen Victoria</td>\n",
       "      <td>1.0</td>\n",
       "    </tr>\n",
       "  </tbody>\n",
       "</table>\n",
       "</div>"
      ],
      "text/plain": [
       "                                  title  year        name     type  \\\n",
       "2792928                       Mrs Brown  1997  Judi Dench  actress   \n",
       "2792925              Ladies in Lavender  2004  Judi Dench  actress   \n",
       "2792929          Mrs Henderson Presents  2005  Judi Dench  actress   \n",
       "2792933              Notes on a Scandal  2006  Judi Dench  actress   \n",
       "2792946  The Best Exotic Marigold Hotel  2011  Judi Dench  actress   \n",
       "2792934                       Philomena  2013  Judi Dench  actress   \n",
       "2792955              Victoria and Abdul  2017  Judi Dench  actress   \n",
       "\n",
       "                    character    n  \n",
       "2792928        Queen Victoria  1.0  \n",
       "2792925                Ursula  1.0  \n",
       "2792929  Mrs. Laura Henderson  1.0  \n",
       "2792933        Barbara Covett  1.0  \n",
       "2792946     Evelyn Greenslade  1.0  \n",
       "2792934             Philomena  1.0  \n",
       "2792955        Queen Victoria  1.0  "
      ]
     },
     "execution_count": 95,
     "metadata": {},
     "output_type": "execute_result"
    }
   ],
   "source": [
    "# 1. List the movies, sorted by year, in which Judi Dench starred as lead actor.\n",
    "\n",
    "c = cast\n",
    "c = c[c.name == 'Judi Dench']\n",
    "c = c[c.n == 1]\n",
    "c.sort_values('year')"
   ]
  },
  {
   "cell_type": "code",
   "execution_count": 96,
   "metadata": {},
   "outputs": [
    {
     "data": {
      "text/html": [
       "<div>\n",
       "<style>\n",
       "    .dataframe thead tr:only-child th {\n",
       "        text-align: right;\n",
       "    }\n",
       "\n",
       "    .dataframe thead th {\n",
       "        text-align: left;\n",
       "    }\n",
       "\n",
       "    .dataframe tbody tr th {\n",
       "        vertical-align: top;\n",
       "    }\n",
       "</style>\n",
       "<table border=\"1\" class=\"dataframe\">\n",
       "  <thead>\n",
       "    <tr style=\"text-align: right;\">\n",
       "      <th></th>\n",
       "      <th>title</th>\n",
       "      <th>year</th>\n",
       "      <th>name</th>\n",
       "      <th>type</th>\n",
       "      <th>character</th>\n",
       "      <th>n</th>\n",
       "    </tr>\n",
       "  </thead>\n",
       "  <tbody>\n",
       "    <tr>\n",
       "      <th>1697110</th>\n",
       "      <td>Sleuth</td>\n",
       "      <td>1972</td>\n",
       "      <td>Laurence Olivier</td>\n",
       "      <td>actor</td>\n",
       "      <td>Andrew Wyke</td>\n",
       "      <td>1.0</td>\n",
       "    </tr>\n",
       "    <tr>\n",
       "      <th>325302</th>\n",
       "      <td>Sleuth</td>\n",
       "      <td>1972</td>\n",
       "      <td>Michael Caine</td>\n",
       "      <td>actor</td>\n",
       "      <td>Milo Tindle</td>\n",
       "      <td>2.0</td>\n",
       "    </tr>\n",
       "    <tr>\n",
       "      <th>372290</th>\n",
       "      <td>Sleuth</td>\n",
       "      <td>1972</td>\n",
       "      <td>Alec Cawthorne</td>\n",
       "      <td>actor</td>\n",
       "      <td>Inspector Doppler</td>\n",
       "      <td>3.0</td>\n",
       "    </tr>\n",
       "    <tr>\n",
       "      <th>1458303</th>\n",
       "      <td>Sleuth</td>\n",
       "      <td>1972</td>\n",
       "      <td>John (II) Matthews</td>\n",
       "      <td>actor</td>\n",
       "      <td>Detective Sergeant Tarrant</td>\n",
       "      <td>4.0</td>\n",
       "    </tr>\n",
       "    <tr>\n",
       "      <th>2705900</th>\n",
       "      <td>Sleuth</td>\n",
       "      <td>1972</td>\n",
       "      <td>Eve (III) Channing</td>\n",
       "      <td>actress</td>\n",
       "      <td>Marguerite Wyke</td>\n",
       "      <td>5.0</td>\n",
       "    </tr>\n",
       "    <tr>\n",
       "      <th>1441628</th>\n",
       "      <td>Sleuth</td>\n",
       "      <td>1972</td>\n",
       "      <td>Teddy Martin</td>\n",
       "      <td>actor</td>\n",
       "      <td>Police Constable Higgs</td>\n",
       "      <td>6.0</td>\n",
       "    </tr>\n",
       "  </tbody>\n",
       "</table>\n",
       "</div>"
      ],
      "text/plain": [
       "          title  year                name     type  \\\n",
       "1697110  Sleuth  1972    Laurence Olivier    actor   \n",
       "325302   Sleuth  1972       Michael Caine    actor   \n",
       "372290   Sleuth  1972      Alec Cawthorne    actor   \n",
       "1458303  Sleuth  1972  John (II) Matthews    actor   \n",
       "2705900  Sleuth  1972  Eve (III) Channing  actress   \n",
       "1441628  Sleuth  1972        Teddy Martin    actor   \n",
       "\n",
       "                          character    n  \n",
       "1697110                 Andrew Wyke  1.0  \n",
       "325302                  Milo Tindle  2.0  \n",
       "372290            Inspector Doppler  3.0  \n",
       "1458303  Detective Sergeant Tarrant  4.0  \n",
       "2705900             Marguerite Wyke  5.0  \n",
       "1441628      Police Constable Higgs  6.0  "
      ]
     },
     "execution_count": 96,
     "metadata": {},
     "output_type": "execute_result"
    }
   ],
   "source": [
    "# 1. Who was credited in the 1972 version of Sleuth, in order by `n` rank?\n",
    "\n",
    "c = cast\n",
    "c = c[c.title == 'Sleuth']\n",
    "c = c[c.year == 1972]\n",
    "c.sort_values('n')"
   ]
  },
  {
   "cell_type": "markdown",
   "metadata": {},
   "source": [
    "### Common character names"
   ]
  },
  {
   "cell_type": "code",
   "execution_count": 97,
   "metadata": {},
   "outputs": [
    {
     "data": {
      "text/plain": [
       "Himself        20746\n",
       "Dancer         12263\n",
       "Extra          11645\n",
       "Reporter        8342\n",
       "Doctor          7592\n",
       "Student         7577\n",
       "Party Guest     7062\n",
       "Policeman       6992\n",
       "Nurse           6825\n",
       "Bartender       6751\n",
       "Herself         6557\n",
       "Name: character, dtype: int64"
      ]
     },
     "execution_count": 97,
     "metadata": {},
     "output_type": "execute_result"
    }
   ],
   "source": [
    "# 2. What are the 11 most common character names in movie history?\n",
    "\n",
    "cast.character.value_counts().head(11)"
   ]
  },
  {
   "cell_type": "code",
   "execution_count": 100,
   "metadata": {},
   "outputs": [
    {
     "data": {
      "text/plain": [
       "name\n",
       "Ross Harris           3\n",
       "Lee Hartman           3\n",
       "William Mogush        3\n",
       "Ella Mae Smith        3\n",
       "John (II) Migliore    9\n",
       "dtype: int64"
      ]
     },
     "execution_count": 100,
     "metadata": {},
     "output_type": "execute_result"
    }
   ],
   "source": [
    "# 3. Which actors have played the role “Zombie” the most times?\n",
    "\n",
    "c = cast\n",
    "c = c[c.character == 'Zombie']\n",
    "c = c.groupby('name').size().sort_values()\n",
    "c.tail(5)"
   ]
  },
  {
   "cell_type": "code",
   "execution_count": 102,
   "metadata": {},
   "outputs": [
    {
     "data": {
      "text/plain": [
       "name\n",
       "Hillary Clinton        7\n",
       "Marta Berrocal         8\n",
       "In?s J. Southern       8\n",
       "Marina Revilla         8\n",
       "Estrella Borja         8\n",
       "Mary Jo Pehl           9\n",
       "Margaret Thatcher      9\n",
       "Joyce Brothers         9\n",
       "Laura (II) M?gica      9\n",
       "Queen Elizabeth II    12\n",
       "dtype: int64"
      ]
     },
     "execution_count": 102,
     "metadata": {},
     "output_type": "execute_result"
    }
   ],
   "source": [
    "# 3. Which ten people have appeared most often as “Herself” over the history of film?\n",
    "\n",
    "c = cast\n",
    "c = c[c.character == 'Herself']\n",
    "c = c.groupby('name').size().sort_values()\n",
    "c.tail(10)"
   ]
  },
  {
   "cell_type": "code",
   "execution_count": 103,
   "metadata": {},
   "outputs": [
    {
     "data": {
      "text/plain": [
       "name\n",
       "Bill Clinton          22\n",
       "Benito Mussolini      22\n",
       "Martin Luther King    22\n",
       "Winston Churchill     23\n",
       "Ron Jeremy            23\n",
       "George W. Bush        25\n",
       "John F. Kennedy       36\n",
       "Ronald Reagan         40\n",
       "Richard Nixon         46\n",
       "Adolf Hitler          99\n",
       "dtype: int64"
      ]
     },
     "execution_count": 103,
     "metadata": {},
     "output_type": "execute_result"
    }
   ],
   "source": [
    "# 3. Which ten people have appeared most often as “Himself” over the history of film?\n",
    "\n",
    "c = cast\n",
    "c = c[c.character == 'Himself']\n",
    "c = c.groupby('name').size().sort_values()\n",
    "c.tail(10)"
   ]
  },
  {
   "cell_type": "code",
   "execution_count": 104,
   "metadata": {},
   "outputs": [
    {
     "data": {
      "text/plain": [
       "Himself     20746\n",
       "Dancer      12263\n",
       "Extra       11645\n",
       "Reporter     8342\n",
       "Doctor       7592\n",
       "Name: character, dtype: int64"
      ]
     },
     "execution_count": 104,
     "metadata": {},
     "output_type": "execute_result"
    }
   ],
   "source": [
    "# 4. Take the 50 most common character names in film.\n",
    "#    Which are most often played by men?\n",
    "\n",
    "c = cast\n",
    "clist = c.character.value_counts().head(50)\n",
    "clist.head()"
   ]
  },
  {
   "cell_type": "code",
   "execution_count": 105,
   "metadata": {},
   "outputs": [
    {
     "data": {
      "text/plain": [
       "Frank    2413\n",
       "Girl     2407\n",
       "Boy      2351\n",
       "Alex     2341\n",
       "Mary     2324\n",
       "Name: character, dtype: int64"
      ]
     },
     "execution_count": 105,
     "metadata": {},
     "output_type": "execute_result"
    }
   ],
   "source": [
    "clist.tail()"
   ]
  },
  {
   "cell_type": "code",
   "execution_count": 106,
   "metadata": {
    "collapsed": true
   },
   "outputs": [],
   "source": [
    "cast_by_character = cast.sort_values('character').set_index('character')"
   ]
  },
  {
   "cell_type": "code",
   "execution_count": 107,
   "metadata": {},
   "outputs": [
    {
     "data": {
      "text/html": [
       "<div>\n",
       "<style>\n",
       "    .dataframe thead tr:only-child th {\n",
       "        text-align: right;\n",
       "    }\n",
       "\n",
       "    .dataframe thead th {\n",
       "        text-align: left;\n",
       "    }\n",
       "\n",
       "    .dataframe tbody tr th {\n",
       "        vertical-align: top;\n",
       "    }\n",
       "</style>\n",
       "<table border=\"1\" class=\"dataframe\">\n",
       "  <thead>\n",
       "    <tr style=\"text-align: right;\">\n",
       "      <th>type</th>\n",
       "      <th>actor</th>\n",
       "      <th>actress</th>\n",
       "      <th>ratio</th>\n",
       "    </tr>\n",
       "    <tr>\n",
       "      <th>character</th>\n",
       "      <th></th>\n",
       "      <th></th>\n",
       "      <th></th>\n",
       "    </tr>\n",
       "  </thead>\n",
       "  <tbody>\n",
       "    <tr>\n",
       "      <th>John</th>\n",
       "      <td>2763</td>\n",
       "      <td>1</td>\n",
       "      <td>0.000362</td>\n",
       "    </tr>\n",
       "    <tr>\n",
       "      <th>Townsman</th>\n",
       "      <td>5808</td>\n",
       "      <td>4</td>\n",
       "      <td>0.000688</td>\n",
       "    </tr>\n",
       "    <tr>\n",
       "      <th>Henchman</th>\n",
       "      <td>5046</td>\n",
       "      <td>5</td>\n",
       "      <td>0.000990</td>\n",
       "    </tr>\n",
       "    <tr>\n",
       "      <th>Himself</th>\n",
       "      <td>20722</td>\n",
       "      <td>24</td>\n",
       "      <td>0.001157</td>\n",
       "    </tr>\n",
       "    <tr>\n",
       "      <th>Policeman</th>\n",
       "      <td>6981</td>\n",
       "      <td>11</td>\n",
       "      <td>0.001573</td>\n",
       "    </tr>\n",
       "  </tbody>\n",
       "</table>\n",
       "</div>"
      ],
      "text/plain": [
       "type       actor  actress     ratio\n",
       "character                          \n",
       "John        2763        1  0.000362\n",
       "Townsman    5808        4  0.000688\n",
       "Henchman    5046        5  0.000990\n",
       "Himself    20722       24  0.001157\n",
       "Policeman   6981       11  0.001573"
      ]
     },
     "execution_count": 107,
     "metadata": {},
     "output_type": "execute_result"
    }
   ],
   "source": [
    "c = cast_by_character.loc[clist.index][['type']]\n",
    "c = c.reset_index()\n",
    "c = c.groupby(['character', 'type']).size()\n",
    "c = c.unstack()\n",
    "c['ratio'] = c.actress / (c.actor + c.actress)\n",
    "c = c.sort_values('ratio')\n",
    "c.head()"
   ]
  },
  {
   "cell_type": "code",
   "execution_count": 108,
   "metadata": {},
   "outputs": [
    {
     "data": {
      "text/html": [
       "<div>\n",
       "<style>\n",
       "    .dataframe thead tr:only-child th {\n",
       "        text-align: right;\n",
       "    }\n",
       "\n",
       "    .dataframe thead th {\n",
       "        text-align: left;\n",
       "    }\n",
       "\n",
       "    .dataframe tbody tr th {\n",
       "        vertical-align: top;\n",
       "    }\n",
       "</style>\n",
       "<table border=\"1\" class=\"dataframe\">\n",
       "  <thead>\n",
       "    <tr style=\"text-align: right;\">\n",
       "      <th>type</th>\n",
       "      <th>actor</th>\n",
       "      <th>actress</th>\n",
       "      <th>ratio</th>\n",
       "    </tr>\n",
       "    <tr>\n",
       "      <th>character</th>\n",
       "      <th></th>\n",
       "      <th></th>\n",
       "      <th></th>\n",
       "    </tr>\n",
       "  </thead>\n",
       "  <tbody>\n",
       "    <tr>\n",
       "      <th>Anna</th>\n",
       "      <td>85</td>\n",
       "      <td>2614</td>\n",
       "      <td>0.968507</td>\n",
       "    </tr>\n",
       "    <tr>\n",
       "      <th>Mary</th>\n",
       "      <td>50</td>\n",
       "      <td>2274</td>\n",
       "      <td>0.978485</td>\n",
       "    </tr>\n",
       "    <tr>\n",
       "      <th>Girl</th>\n",
       "      <td>46</td>\n",
       "      <td>2361</td>\n",
       "      <td>0.980889</td>\n",
       "    </tr>\n",
       "    <tr>\n",
       "      <th>Herself</th>\n",
       "      <td>65</td>\n",
       "      <td>6492</td>\n",
       "      <td>0.990087</td>\n",
       "    </tr>\n",
       "    <tr>\n",
       "      <th>Maria</th>\n",
       "      <td>27</td>\n",
       "      <td>2810</td>\n",
       "      <td>0.990483</td>\n",
       "    </tr>\n",
       "  </tbody>\n",
       "</table>\n",
       "</div>"
      ],
      "text/plain": [
       "type       actor  actress     ratio\n",
       "character                          \n",
       "Anna          85     2614  0.968507\n",
       "Mary          50     2274  0.978485\n",
       "Girl          46     2361  0.980889\n",
       "Herself       65     6492  0.990087\n",
       "Maria         27     2810  0.990483"
      ]
     },
     "execution_count": 108,
     "metadata": {},
     "output_type": "execute_result"
    }
   ],
   "source": [
    "# 4. …which of those 50 characters are most often played by women?\n",
    "\n",
    "c.tail()"
   ]
  },
  {
   "cell_type": "code",
   "execution_count": 109,
   "metadata": {},
   "outputs": [
    {
     "data": {
      "text/html": [
       "<div>\n",
       "<style>\n",
       "    .dataframe thead tr:only-child th {\n",
       "        text-align: right;\n",
       "    }\n",
       "\n",
       "    .dataframe thead th {\n",
       "        text-align: left;\n",
       "    }\n",
       "\n",
       "    .dataframe tbody tr th {\n",
       "        vertical-align: top;\n",
       "    }\n",
       "</style>\n",
       "<table border=\"1\" class=\"dataframe\">\n",
       "  <thead>\n",
       "    <tr style=\"text-align: right;\">\n",
       "      <th>type</th>\n",
       "      <th>actor</th>\n",
       "      <th>actress</th>\n",
       "      <th>ratio</th>\n",
       "    </tr>\n",
       "    <tr>\n",
       "      <th>character</th>\n",
       "      <th></th>\n",
       "      <th></th>\n",
       "      <th></th>\n",
       "    </tr>\n",
       "  </thead>\n",
       "  <tbody>\n",
       "    <tr>\n",
       "      <th>Restaurant Patron</th>\n",
       "      <td>1438</td>\n",
       "      <td>1035</td>\n",
       "      <td>0.418520</td>\n",
       "    </tr>\n",
       "    <tr>\n",
       "      <th>Extra</th>\n",
       "      <td>6689</td>\n",
       "      <td>4956</td>\n",
       "      <td>0.425590</td>\n",
       "    </tr>\n",
       "    <tr>\n",
       "      <th>Student</th>\n",
       "      <td>4184</td>\n",
       "      <td>3393</td>\n",
       "      <td>0.447803</td>\n",
       "    </tr>\n",
       "    <tr>\n",
       "      <th>Wedding Guest</th>\n",
       "      <td>1500</td>\n",
       "      <td>1236</td>\n",
       "      <td>0.451754</td>\n",
       "    </tr>\n",
       "    <tr>\n",
       "      <th>Singer</th>\n",
       "      <td>1561</td>\n",
       "      <td>1609</td>\n",
       "      <td>0.507571</td>\n",
       "    </tr>\n",
       "  </tbody>\n",
       "</table>\n",
       "</div>"
      ],
      "text/plain": [
       "type               actor  actress     ratio\n",
       "character                                  \n",
       "Restaurant Patron   1438     1035  0.418520\n",
       "Extra               6689     4956  0.425590\n",
       "Student             4184     3393  0.447803\n",
       "Wedding Guest       1500     1236  0.451754\n",
       "Singer              1561     1609  0.507571"
      ]
     },
     "execution_count": 109,
     "metadata": {},
     "output_type": "execute_result"
    }
   ],
   "source": [
    "# 4. …which of those 50 characters have a ratio closest to 0.5?\n",
    "\n",
    "c[(c.ratio > 0.4) & (c.ratio < 0.6)]"
   ]
  },
  {
   "cell_type": "code",
   "execution_count": null,
   "metadata": {
    "collapsed": true
   },
   "outputs": [],
   "source": []
  },
  {
   "cell_type": "markdown",
   "metadata": {},
   "source": [
    "### Who has been in the most movies"
   ]
  },
  {
   "cell_type": "code",
   "execution_count": 110,
   "metadata": {},
   "outputs": [
    {
     "data": {
      "text/plain": [
       "Emmett Vogan       39\n",
       "Sam (II) Harris    32\n",
       "Bess Flowers       29\n",
       "Harold Miller      29\n",
       "Nolan Leary        27\n",
       "Frank O'Connor     27\n",
       "Franklyn Farnum    27\n",
       "Larry Steers       25\n",
       "Pierre Watkin      24\n",
       "Herman Hack        24\n",
       "Name: name, dtype: int64"
      ]
     },
     "execution_count": 110,
     "metadata": {},
     "output_type": "execute_result"
    }
   ],
   "source": [
    "# 2. Which actors or actresses appeared in the most movies in the year 1945?\n",
    "\n",
    "cast[cast.year == 1945].name.value_counts().head(10)"
   ]
  },
  {
   "cell_type": "code",
   "execution_count": 111,
   "metadata": {},
   "outputs": [
    {
     "data": {
      "text/plain": [
       "Mammootty        22\n",
       "Shakti Kapoor    21\n",
       "Sukumari         20\n",
       "Aruna Irani      15\n",
       "Lou Scheimer     15\n",
       "Mohanlal         15\n",
       "Raj Babbar       15\n",
       "Rajesh Khanna    13\n",
       "Asrani           13\n",
       "Deven Verma      13\n",
       "Name: name, dtype: int64"
      ]
     },
     "execution_count": 111,
     "metadata": {},
     "output_type": "execute_result"
    }
   ],
   "source": [
    "# 2. Which actors or actresses appeared in the most movies in the year 1985?\n",
    "\n",
    "cast[cast.year == 1985].name.value_counts().head(10)"
   ]
  },
  {
   "cell_type": "code",
   "execution_count": 114,
   "metadata": {},
   "outputs": [
    {
     "name": "stdout",
     "output_type": "stream",
     "text": [
      "CPU times: user 6.23 s, sys: 506 ms, total: 6.74 s\n",
      "Wall time: 6.8 s\n"
     ]
    }
   ],
   "source": [
    "%%time\n",
    "# 2. Create a `cast_by_title_year` dataframe indexed by title and year\n",
    "#    to use in the next few questions.\n",
    "\n",
    "cast_by_title_year = cast.set_index(['title', 'year']).sort_index()\n",
    "cast_by_title_year.head()"
   ]
  },
  {
   "cell_type": "code",
   "execution_count": 113,
   "metadata": {},
   "outputs": [
    {
     "name": "stdout",
     "output_type": "stream",
     "text": [
      "CPU times: user 41.3 ms, sys: 812 µs, total: 42.1 ms\n",
      "Wall time: 41.5 ms\n"
     ]
    },
    {
     "data": {
      "text/html": [
       "<div>\n",
       "<style>\n",
       "    .dataframe thead tr:only-child th {\n",
       "        text-align: right;\n",
       "    }\n",
       "\n",
       "    .dataframe thead th {\n",
       "        text-align: left;\n",
       "    }\n",
       "\n",
       "    .dataframe tbody tr th {\n",
       "        vertical-align: top;\n",
       "    }\n",
       "</style>\n",
       "<table border=\"1\" class=\"dataframe\">\n",
       "  <thead>\n",
       "    <tr style=\"text-align: right;\">\n",
       "      <th></th>\n",
       "      <th>name</th>\n",
       "      <th>type</th>\n",
       "      <th>character</th>\n",
       "      <th>n</th>\n",
       "    </tr>\n",
       "    <tr>\n",
       "      <th>year</th>\n",
       "      <th></th>\n",
       "      <th></th>\n",
       "      <th></th>\n",
       "      <th></th>\n",
       "    </tr>\n",
       "  </thead>\n",
       "  <tbody>\n",
       "    <tr>\n",
       "      <th>2010</th>\n",
       "      <td>Leonardo DiCaprio</td>\n",
       "      <td>actor</td>\n",
       "      <td>Cobb</td>\n",
       "      <td>1.0</td>\n",
       "    </tr>\n",
       "    <tr>\n",
       "      <th>2010</th>\n",
       "      <td>Joseph Gordon-Levitt</td>\n",
       "      <td>actor</td>\n",
       "      <td>Arthur</td>\n",
       "      <td>2.0</td>\n",
       "    </tr>\n",
       "    <tr>\n",
       "      <th>2010</th>\n",
       "      <td>Ellen Page</td>\n",
       "      <td>actress</td>\n",
       "      <td>Ariadne</td>\n",
       "      <td>3.0</td>\n",
       "    </tr>\n",
       "    <tr>\n",
       "      <th>2010</th>\n",
       "      <td>Tom Hardy</td>\n",
       "      <td>actor</td>\n",
       "      <td>Eames</td>\n",
       "      <td>4.0</td>\n",
       "    </tr>\n",
       "    <tr>\n",
       "      <th>2010</th>\n",
       "      <td>Ken Watanabe</td>\n",
       "      <td>actor</td>\n",
       "      <td>Saito</td>\n",
       "      <td>5.0</td>\n",
       "    </tr>\n",
       "    <tr>\n",
       "      <th>2010</th>\n",
       "      <td>Dileep Rao</td>\n",
       "      <td>actor</td>\n",
       "      <td>Yusuf</td>\n",
       "      <td>6.0</td>\n",
       "    </tr>\n",
       "    <tr>\n",
       "      <th>2010</th>\n",
       "      <td>Cillian Murphy</td>\n",
       "      <td>actor</td>\n",
       "      <td>Robert Fischer</td>\n",
       "      <td>7.0</td>\n",
       "    </tr>\n",
       "    <tr>\n",
       "      <th>2010</th>\n",
       "      <td>Tom Berenger</td>\n",
       "      <td>actor</td>\n",
       "      <td>Browning</td>\n",
       "      <td>8.0</td>\n",
       "    </tr>\n",
       "    <tr>\n",
       "      <th>2010</th>\n",
       "      <td>Marion Cotillard</td>\n",
       "      <td>actress</td>\n",
       "      <td>Mal</td>\n",
       "      <td>9.0</td>\n",
       "    </tr>\n",
       "    <tr>\n",
       "      <th>2010</th>\n",
       "      <td>Pete Postlethwaite</td>\n",
       "      <td>actor</td>\n",
       "      <td>Maurice Fischer</td>\n",
       "      <td>10.0</td>\n",
       "    </tr>\n",
       "  </tbody>\n",
       "</table>\n",
       "</div>"
      ],
      "text/plain": [
       "                      name     type        character     n\n",
       "year                                                      \n",
       "2010     Leonardo DiCaprio    actor             Cobb   1.0\n",
       "2010  Joseph Gordon-Levitt    actor           Arthur   2.0\n",
       "2010            Ellen Page  actress          Ariadne   3.0\n",
       "2010             Tom Hardy    actor            Eames   4.0\n",
       "2010          Ken Watanabe    actor            Saito   5.0\n",
       "2010            Dileep Rao    actor            Yusuf   6.0\n",
       "2010        Cillian Murphy    actor   Robert Fischer   7.0\n",
       "2010          Tom Berenger    actor         Browning   8.0\n",
       "2010      Marion Cotillard  actress              Mal   9.0\n",
       "2010    Pete Postlethwaite    actor  Maurice Fischer  10.0"
      ]
     },
     "execution_count": 113,
     "metadata": {},
     "output_type": "execute_result"
    }
   ],
   "source": [
    "%%time\n",
    "# 2. Use `cast_by_title_year` to find the stars of the film Inception\n",
    "#    and order them by `n` before displaying the top 10.\n",
    "\n",
    "cast_by_title_year.loc['Inception'].sort_values('n').head(10)"
   ]
  },
  {
   "cell_type": "code",
   "execution_count": 115,
   "metadata": {},
   "outputs": [
    {
     "data": {
      "text/html": [
       "<div>\n",
       "<style>\n",
       "    .dataframe thead tr:only-child th {\n",
       "        text-align: right;\n",
       "    }\n",
       "\n",
       "    .dataframe thead th {\n",
       "        text-align: left;\n",
       "    }\n",
       "\n",
       "    .dataframe tbody tr th {\n",
       "        vertical-align: top;\n",
       "    }\n",
       "</style>\n",
       "<table border=\"1\" class=\"dataframe\">\n",
       "  <thead>\n",
       "    <tr style=\"text-align: right;\">\n",
       "      <th></th>\n",
       "      <th></th>\n",
       "      <th>name</th>\n",
       "      <th>type</th>\n",
       "      <th>character</th>\n",
       "      <th>n</th>\n",
       "    </tr>\n",
       "    <tr>\n",
       "      <th>title</th>\n",
       "      <th>year</th>\n",
       "      <th></th>\n",
       "      <th></th>\n",
       "      <th></th>\n",
       "      <th></th>\n",
       "    </tr>\n",
       "  </thead>\n",
       "  <tbody>\n",
       "    <tr>\n",
       "      <th rowspan=\"10\" valign=\"top\">Hamlet</th>\n",
       "      <th>1996</th>\n",
       "      <td>Riz Abbasi</td>\n",
       "      <td>actor</td>\n",
       "      <td>Attendant to Claudius</td>\n",
       "      <td>1.0</td>\n",
       "    </tr>\n",
       "    <tr>\n",
       "      <th>1996</th>\n",
       "      <td>Richard Attenborough</td>\n",
       "      <td>actor</td>\n",
       "      <td>English Ambassador</td>\n",
       "      <td>2.0</td>\n",
       "    </tr>\n",
       "    <tr>\n",
       "      <th>1996</th>\n",
       "      <td>David (V) Blair</td>\n",
       "      <td>actor</td>\n",
       "      <td>Attendant to Claudius</td>\n",
       "      <td>3.0</td>\n",
       "    </tr>\n",
       "    <tr>\n",
       "      <th>1996</th>\n",
       "      <td>Brian Blessed</td>\n",
       "      <td>actor</td>\n",
       "      <td>Ghost of Hamlet's Father</td>\n",
       "      <td>4.0</td>\n",
       "    </tr>\n",
       "    <tr>\n",
       "      <th>1996</th>\n",
       "      <td>Kenneth Branagh</td>\n",
       "      <td>actor</td>\n",
       "      <td>Hamlet</td>\n",
       "      <td>5.0</td>\n",
       "    </tr>\n",
       "    <tr>\n",
       "      <th>1996</th>\n",
       "      <td>Richard Briers</td>\n",
       "      <td>actor</td>\n",
       "      <td>Polonius</td>\n",
       "      <td>6.0</td>\n",
       "    </tr>\n",
       "    <tr>\n",
       "      <th>1996</th>\n",
       "      <td>Michael Bryant</td>\n",
       "      <td>actor</td>\n",
       "      <td>Priest</td>\n",
       "      <td>7.0</td>\n",
       "    </tr>\n",
       "    <tr>\n",
       "      <th>1996</th>\n",
       "      <td>Peter Bygott</td>\n",
       "      <td>actor</td>\n",
       "      <td>Attendant to Claudius</td>\n",
       "      <td>8.0</td>\n",
       "    </tr>\n",
       "    <tr>\n",
       "      <th>1996</th>\n",
       "      <td>Julie Christie</td>\n",
       "      <td>actress</td>\n",
       "      <td>Gertrude</td>\n",
       "      <td>9.0</td>\n",
       "    </tr>\n",
       "    <tr>\n",
       "      <th>1996</th>\n",
       "      <td>Billy Crystal</td>\n",
       "      <td>actor</td>\n",
       "      <td>First Gravedigger</td>\n",
       "      <td>10.0</td>\n",
       "    </tr>\n",
       "  </tbody>\n",
       "</table>\n",
       "</div>"
      ],
      "text/plain": [
       "                             name     type                 character     n\n",
       "title  year                                                               \n",
       "Hamlet 1996            Riz Abbasi    actor     Attendant to Claudius   1.0\n",
       "       1996  Richard Attenborough    actor        English Ambassador   2.0\n",
       "       1996       David (V) Blair    actor     Attendant to Claudius   3.0\n",
       "       1996         Brian Blessed    actor  Ghost of Hamlet's Father   4.0\n",
       "       1996       Kenneth Branagh    actor                    Hamlet   5.0\n",
       "       1996        Richard Briers    actor                  Polonius   6.0\n",
       "       1996        Michael Bryant    actor                    Priest   7.0\n",
       "       1996          Peter Bygott    actor     Attendant to Claudius   8.0\n",
       "       1996        Julie Christie  actress                  Gertrude   9.0\n",
       "       1996         Billy Crystal    actor         First Gravedigger  10.0"
      ]
     },
     "execution_count": 115,
     "metadata": {},
     "output_type": "execute_result"
    }
   ],
   "source": [
    "# 2. Use `cast_by_title_year` to find the first 10 stars in the 1996 film Hamlet,\n",
    "#    and order them by `n`.\n",
    "\n",
    "cast_by_title_year.loc['Hamlet',1996].sort_values('n').head(10)"
   ]
  },
  {
   "cell_type": "code",
   "execution_count": 116,
   "metadata": {},
   "outputs": [
    {
     "name": "stdout",
     "output_type": "stream",
     "text": [
      "Mark Hamill 48\n",
      "Harrison Ford 44\n",
      "Carrie Fisher 43\n",
      "Peter Cushing 10\n",
      "Alec Guinness 10\n",
      "Anthony Daniels 14\n",
      "Kenny Baker 18\n",
      "Peter (II) Mayhew 9\n",
      "David Prowse 5\n",
      "CPU times: user 2.88 s, sys: 50.1 ms, total: 2.93 s\n",
      "Wall time: 2.93 s\n"
     ]
    }
   ],
   "source": [
    "%%time\n",
    "# 2. Write a `for` loop that, for the top 9 actors in the 1977 movie Star Wars,\n",
    "#    determines how many movies they starred in after 1977.\n",
    "\n",
    "names = cast_by_title_year.loc['Star Wars',1977].sort_values('n').head(9).name\n",
    "for name in names:\n",
    "    print(name, len(cast[(cast.name == name) & (cast.year > 1977)]))"
   ]
  },
  {
   "cell_type": "code",
   "execution_count": 117,
   "metadata": {},
   "outputs": [],
   "source": [
    "# 2. Create an indexed version of `cast` that, once built, lets you answer\n",
    "#    the previous question with a `for` loop that finishes in under a second.\n",
    "\n",
    "i = cast.set_index('name').sort_index()"
   ]
  },
  {
   "cell_type": "code",
   "execution_count": 118,
   "metadata": {},
   "outputs": [
    {
     "name": "stdout",
     "output_type": "stream",
     "text": [
      "Mark Hamill 48\n",
      "Harrison Ford 44\n",
      "Carrie Fisher 43\n",
      "Peter Cushing 10\n",
      "Alec Guinness 10\n",
      "Anthony Daniels 14\n",
      "Kenny Baker 18\n",
      "Peter (II) Mayhew 9\n",
      "David Prowse 5\n",
      "CPU times: user 725 ms, sys: 46.4 ms, total: 771 ms\n",
      "Wall time: 769 ms\n"
     ]
    }
   ],
   "source": [
    "%%time\n",
    "for name in names:\n",
    "    c = i.loc[name]\n",
    "    c = c[c.year > 1977]\n",
    "    #c = c[(c.character != 'Himself') & (c.character != 'Herself')]\n",
    "    print(name, len(c))"
   ]
  },
  {
   "cell_type": "code",
   "execution_count": null,
   "metadata": {
    "collapsed": true
   },
   "outputs": [],
   "source": []
  },
  {
   "cell_type": "code",
   "execution_count": 119,
   "metadata": {},
   "outputs": [
    {
     "data": {
      "text/plain": [
       "year\n",
       "1910     1\n",
       "1911     6\n",
       "1913    21\n",
       "1921     9\n",
       "1948    24\n",
       "1954     5\n",
       "1964    33\n",
       "1969    24\n",
       "1973     8\n",
       "1976    11\n",
       "1987     3\n",
       "1990    29\n",
       "1996    54\n",
       "2000    38\n",
       "2009    17\n",
       "2011    12\n",
       "2014     1\n",
       "2015    23\n",
       "2016     8\n",
       "2017    15\n",
       "dtype: int64"
      ]
     },
     "execution_count": 119,
     "metadata": {},
     "output_type": "execute_result"
    }
   ],
   "source": [
    "# 3. How many people were cast in each of the movies named \"Hamlet”?\n",
    "\n",
    "c = cast\n",
    "c = c[c.title == 'Hamlet']\n",
    "c = c.groupby('year').size() \n",
    "c"
   ]
  },
  {
   "cell_type": "code",
   "execution_count": null,
   "metadata": {},
   "outputs": [],
   "source": []
  },
  {
   "cell_type": "code",
   "execution_count": 120,
   "metadata": {},
   "outputs": [
    {
     "data": {
      "text/plain": [
       "title         year\n",
       "Hamlet        1910     1\n",
       "              1911     6\n",
       "              1913    21\n",
       "              1921     9\n",
       "              1948    24\n",
       "              1954     5\n",
       "              1964    33\n",
       "              1969    24\n",
       "              1973     8\n",
       "              1976    11\n",
       "              1987     3\n",
       "              1990    29\n",
       "              1996    54\n",
       "              2000    38\n",
       "              2009    17\n",
       "              2011    12\n",
       "              2014     1\n",
       "              2015    23\n",
       "              2016     8\n",
       "              2017    15\n",
       "Hamlet (II)   1964    21\n",
       "              2005    20\n",
       "              2007    16\n",
       "              2015    10\n",
       "              2017    18\n",
       "Hamlet (III)  2007     2\n",
       "dtype: int64"
      ]
     },
     "execution_count": 120,
     "metadata": {},
     "output_type": "execute_result"
    }
   ],
   "source": [
    "# 5. How many actors are in the cast of each version of Hamlet,\n",
    "#    including Hamlets with IMDB name collisions like \"Hamlet (II)\"\n",
    "#    and \"Hamlet (III)\"? [BAD]\n",
    "\n",
    "c = cast_by_title_year\n",
    "# c.loc['Hamlet':'Hamlet (Z'].index.value_counts()    - Drat\n",
    "# c.loc['Hamlet':'Hamlet (Z'].groupby(level=0).size() - Drat\n",
    "# c.loc['Hamlet':'Hamlet (Z'].groupby(level=1).size() - Drat\n",
    "c.loc['Hamlet':'Hamlet (Z'].groupby(level=[0,1]).size()\n",
    "\n",
    "# Or:\n",
    "#c = cast[(cast.title >= 'Hamlet') & (cast.title < 'Hamlet (Z')]\n",
    "#c.groupby(['title', 'year']).size()"
   ]
  },
  {
   "cell_type": "code",
   "execution_count": null,
   "metadata": {},
   "outputs": [],
   "source": []
  },
  {
   "cell_type": "markdown",
   "metadata": {
    "collapsed": true
   },
   "source": [
    "### Actors and Actresses"
   ]
  },
  {
   "cell_type": "code",
   "execution_count": 121,
   "metadata": {},
   "outputs": [
    {
     "data": {
      "text/html": [
       "<div>\n",
       "<style>\n",
       "    .dataframe thead tr:only-child th {\n",
       "        text-align: right;\n",
       "    }\n",
       "\n",
       "    .dataframe thead th {\n",
       "        text-align: left;\n",
       "    }\n",
       "\n",
       "    .dataframe tbody tr th {\n",
       "        vertical-align: top;\n",
       "    }\n",
       "</style>\n",
       "<table border=\"1\" class=\"dataframe\">\n",
       "  <thead>\n",
       "    <tr style=\"text-align: right;\">\n",
       "      <th>type</th>\n",
       "      <th>actor</th>\n",
       "      <th>actress</th>\n",
       "    </tr>\n",
       "    <tr>\n",
       "      <th>year</th>\n",
       "      <th></th>\n",
       "      <th></th>\n",
       "    </tr>\n",
       "  </thead>\n",
       "  <tbody>\n",
       "    <tr>\n",
       "      <th>1894</th>\n",
       "      <td>2.0</td>\n",
       "      <td>1.0</td>\n",
       "    </tr>\n",
       "    <tr>\n",
       "      <th>1900</th>\n",
       "      <td>2.0</td>\n",
       "      <td>NaN</td>\n",
       "    </tr>\n",
       "    <tr>\n",
       "      <th>1905</th>\n",
       "      <td>1.0</td>\n",
       "      <td>NaN</td>\n",
       "    </tr>\n",
       "    <tr>\n",
       "      <th>1906</th>\n",
       "      <td>14.0</td>\n",
       "      <td>3.0</td>\n",
       "    </tr>\n",
       "    <tr>\n",
       "      <th>1907</th>\n",
       "      <td>5.0</td>\n",
       "      <td>NaN</td>\n",
       "    </tr>\n",
       "  </tbody>\n",
       "</table>\n",
       "</div>"
      ],
      "text/plain": [
       "type  actor  actress\n",
       "year                \n",
       "1894    2.0      1.0\n",
       "1900    2.0      NaN\n",
       "1905    1.0      NaN\n",
       "1906   14.0      3.0\n",
       "1907    5.0      NaN"
      ]
     },
     "execution_count": 121,
     "metadata": {},
     "output_type": "execute_result"
    }
   ],
   "source": [
    "# 4. Build a dataframe with a row for each year with two columns:\n",
    "#    the number of roles for actors in that year's films,\n",
    "#    and the number of roles for actresses.\n",
    "\n",
    "aa = cast[['year', 'type']].groupby(['year', 'type']).size()\n",
    "aa = aa.loc[:2014].unstack()\n",
    "aa.head()"
   ]
  },
  {
   "cell_type": "code",
   "execution_count": 122,
   "metadata": {},
   "outputs": [
    {
     "data": {
      "text/plain": [
       "<matplotlib.axes._subplots.AxesSubplot at 0x1349f9240>"
      ]
     },
     "execution_count": 122,
     "metadata": {},
     "output_type": "execute_result"
    },
    {
     "data": {
      "image/png": "[encoded data removed]",
      "text/plain": [
       "<matplotlib.figure.Figure at 0x15cd3b780>"
      ]
     },
     "metadata": {},
     "output_type": "display_data"
    }
   ],
   "source": [
    "# 4. Use that dataframe to make a kind='area' plot showing the total\n",
    "#    number of roles available over the history of film.\n",
    "\n",
    "aa.plot(kind='area')"
   ]
  },
  {
   "cell_type": "code",
   "execution_count": 123,
   "metadata": {},
   "outputs": [
    {
     "data": {
      "text/plain": [
       "<matplotlib.axes._subplots.AxesSubplot at 0x134468be0>"
      ]
     },
     "execution_count": 123,
     "metadata": {},
     "output_type": "execute_result"
    },
    {
     "data": {
      "image/png": "[encoded data removed]",
      "text/plain": [
       "<matplotlib.figure.Figure at 0x13446e438>"
      ]
     },
     "metadata": {},
     "output_type": "display_data"
    }
   ],
   "source": [
    "f = aa.actor / (aa.actor + aa.actress)\n",
    "f.plot(ylim=[0,1], kind='area')"
   ]
  },
  {
   "cell_type": "code",
   "execution_count": 124,
   "metadata": {},
   "outputs": [
    {
     "data": {
      "text/plain": [
       "<matplotlib.axes._subplots.AxesSubplot at 0x1349a73c8>"
      ]
     },
     "execution_count": 124,
     "metadata": {},
     "output_type": "execute_result"
    },
    {
     "data": {
      "image/png": "[encoded data removed]",
      "text/plain": [
       "<matplotlib.figure.Figure at 0x13b716208>"
      ]
     },
     "metadata": {},
     "output_type": "display_data"
    }
   ],
   "source": [
    "c = cast\n",
    "#c = c[c.year // 10 == 198]\n",
    "c = c[c.n <= 3]\n",
    "c = c.groupby(['year', 'type', 'n']).size()\n",
    "c = c.unstack(1)\n",
    "c.swaplevel(0,1).loc[1].plot(ylim=0, kind='area')\n",
    "#f = c.actor / (c.actor + c.actress)\n",
    "#f = f.unstack()\n",
    "#f.plot(ylim=[0,1])"
   ]
  },
  {
   "cell_type": "code",
   "execution_count": null,
   "metadata": {
    "collapsed": true
   },
   "outputs": [],
   "source": []
  },
  {
   "cell_type": "markdown",
   "metadata": {},
   "source": [
    "### Rank over time"
   ]
  },
  {
   "cell_type": "code",
   "execution_count": 125,
   "metadata": {},
   "outputs": [
    {
     "name": "stdout",
     "output_type": "stream",
     "text": [
      "1986.8333333333333\n"
     ]
    }
   ],
   "source": [
    "# 2. Define “leading actor” as an actor or actress whose `n==1`\n",
    "#    and “supporting actor” as `n==2` — what is the average year\n",
    "#    of all the supporting roles Judi Dench has had?\n",
    "\n",
    "c = cast\n",
    "c = c[c.name == 'Judi Dench']\n",
    "print(c[c.n == 2].year.mean())"
   ]
  },
  {
   "cell_type": "code",
   "execution_count": 128,
   "metadata": {},
   "outputs": [
    {
     "name": "stdout",
     "output_type": "stream",
     "text": [
      "2007.5714285714287\n"
     ]
    }
   ],
   "source": [
    "# 2. What is the average year of Judi Dench’s leading roles —\n",
    "#    is her career moving forwards toward leading roles\n",
    "#    or backwards towards supporting ones?\n",
    "\n",
    "print(c[c.n == 1].year.mean())"
   ]
  },
  {
   "cell_type": "code",
   "execution_count": 129,
   "metadata": {},
   "outputs": [
    {
     "name": "stdout",
     "output_type": "stream",
     "text": [
      "1961.75\n",
      "1970.4761904761904\n"
     ]
    }
   ],
   "source": [
    "# 2. Did Sidney Poitier move forward or back over his career?\n",
    "\n",
    "c = cast\n",
    "c = c[c.name == 'Sidney Poitier']\n",
    "print(c[c.n == 2].year.mean())\n",
    "print(c[c.n == 1].year.mean())"
   ]
  },
  {
   "cell_type": "code",
   "execution_count": 130,
   "metadata": {},
   "outputs": [
    {
     "name": "stdout",
     "output_type": "stream",
     "text": [
      "1989.6818181818182\n",
      "1984.148148148148\n"
     ]
    }
   ],
   "source": [
    "# 2. What about Michael Caine?\n",
    "\n",
    "c = cast\n",
    "c = c[c.name == 'Michael Caine']\n",
    "print(c[c.n == 2].year.mean())\n",
    "print(c[c.n == 1].year.mean())"
   ]
  },
  {
   "cell_type": "code",
   "execution_count": 131,
   "metadata": {},
   "outputs": [
    {
     "data": {
      "text/html": [
       "<div>\n",
       "<style>\n",
       "    .dataframe thead tr:only-child th {\n",
       "        text-align: right;\n",
       "    }\n",
       "\n",
       "    .dataframe thead th {\n",
       "        text-align: left;\n",
       "    }\n",
       "\n",
       "    .dataframe tbody tr th {\n",
       "        vertical-align: top;\n",
       "    }\n",
       "</style>\n",
       "<table border=\"1\" class=\"dataframe\">\n",
       "  <thead>\n",
       "    <tr style=\"text-align: right;\">\n",
       "      <th></th>\n",
       "      <th>size</th>\n",
       "      <th>mean</th>\n",
       "    </tr>\n",
       "    <tr>\n",
       "      <th>name</th>\n",
       "      <th></th>\n",
       "      <th></th>\n",
       "    </tr>\n",
       "  </thead>\n",
       "  <tbody>\n",
       "    <tr>\n",
       "      <th>!Mystery Girl!</th>\n",
       "      <td>1</td>\n",
       "      <td>29.0</td>\n",
       "    </tr>\n",
       "    <tr>\n",
       "      <th>$hutter</th>\n",
       "      <td>1</td>\n",
       "      <td>10.0</td>\n",
       "    </tr>\n",
       "    <tr>\n",
       "      <th>'Ace' Reitman</th>\n",
       "      <td>1</td>\n",
       "      <td>11.0</td>\n",
       "    </tr>\n",
       "    <tr>\n",
       "      <th>'Agent' Ava Hubbard</th>\n",
       "      <td>1</td>\n",
       "      <td>29.0</td>\n",
       "    </tr>\n",
       "    <tr>\n",
       "      <th>'Amarillo Slim' Preston</th>\n",
       "      <td>1</td>\n",
       "      <td>31.0</td>\n",
       "    </tr>\n",
       "  </tbody>\n",
       "</table>\n",
       "</div>"
      ],
      "text/plain": [
       "                         size  mean\n",
       "name                               \n",
       "!Mystery Girl!              1  29.0\n",
       "$hutter                     1  10.0\n",
       "'Ace' Reitman               1  11.0\n",
       "'Agent' Ava Hubbard         1  29.0\n",
       "'Amarillo Slim' Preston     1  31.0"
      ]
     },
     "execution_count": 131,
     "metadata": {},
     "output_type": "execute_result"
    }
   ],
   "source": [
    "c = cast\n",
    "#c = c[c.year // 10 == 195]\n",
    "c = c[c.n.notnull()].groupby('name').n.agg(['size', 'mean'])\n",
    "c.head()"
   ]
  },
  {
   "cell_type": "code",
   "execution_count": 132,
   "metadata": {},
   "outputs": [
    {
     "data": {
      "text/html": [
       "<div>\n",
       "<style>\n",
       "    .dataframe thead tr:only-child th {\n",
       "        text-align: right;\n",
       "    }\n",
       "\n",
       "    .dataframe thead th {\n",
       "        text-align: left;\n",
       "    }\n",
       "\n",
       "    .dataframe tbody tr th {\n",
       "        vertical-align: top;\n",
       "    }\n",
       "</style>\n",
       "<table border=\"1\" class=\"dataframe\">\n",
       "  <thead>\n",
       "    <tr style=\"text-align: right;\">\n",
       "      <th></th>\n",
       "      <th>size</th>\n",
       "      <th>mean</th>\n",
       "    </tr>\n",
       "    <tr>\n",
       "      <th>name</th>\n",
       "      <th></th>\n",
       "      <th></th>\n",
       "    </tr>\n",
       "  </thead>\n",
       "  <tbody>\n",
       "    <tr>\n",
       "      <th>Harold Lloyd</th>\n",
       "      <td>20</td>\n",
       "      <td>1.000000</td>\n",
       "    </tr>\n",
       "    <tr>\n",
       "      <th>Prabhas</th>\n",
       "      <td>18</td>\n",
       "      <td>1.000000</td>\n",
       "    </tr>\n",
       "    <tr>\n",
       "      <th>Joe Sears</th>\n",
       "      <td>10</td>\n",
       "      <td>1.000000</td>\n",
       "    </tr>\n",
       "    <tr>\n",
       "      <th>Emily Stevens</th>\n",
       "      <td>16</td>\n",
       "      <td>1.000000</td>\n",
       "    </tr>\n",
       "    <tr>\n",
       "      <th>Stefan Kramer</th>\n",
       "      <td>19</td>\n",
       "      <td>1.000000</td>\n",
       "    </tr>\n",
       "    <tr>\n",
       "      <th>Billie Rhodes</th>\n",
       "      <td>10</td>\n",
       "      <td>1.000000</td>\n",
       "    </tr>\n",
       "    <tr>\n",
       "      <th>Ganesh (XII)</th>\n",
       "      <td>23</td>\n",
       "      <td>1.000000</td>\n",
       "    </tr>\n",
       "    <tr>\n",
       "      <th>Am?cio Mazzaropi</th>\n",
       "      <td>21</td>\n",
       "      <td>1.000000</td>\n",
       "    </tr>\n",
       "    <tr>\n",
       "      <th>Carl Brisson</th>\n",
       "      <td>11</td>\n",
       "      <td>1.000000</td>\n",
       "    </tr>\n",
       "    <tr>\n",
       "      <th>Ram (VII)</th>\n",
       "      <td>11</td>\n",
       "      <td>1.000000</td>\n",
       "    </tr>\n",
       "    <tr>\n",
       "      <th>Anders Matthesen</th>\n",
       "      <td>13</td>\n",
       "      <td>1.000000</td>\n",
       "    </tr>\n",
       "    <tr>\n",
       "      <th>Tristan Newcomb</th>\n",
       "      <td>10</td>\n",
       "      <td>1.000000</td>\n",
       "    </tr>\n",
       "    <tr>\n",
       "      <th>Suzzanna</th>\n",
       "      <td>12</td>\n",
       "      <td>1.000000</td>\n",
       "    </tr>\n",
       "    <tr>\n",
       "      <th>Will Hay</th>\n",
       "      <td>19</td>\n",
       "      <td>1.000000</td>\n",
       "    </tr>\n",
       "    <tr>\n",
       "      <th>Valeska Suratt</th>\n",
       "      <td>11</td>\n",
       "      <td>1.000000</td>\n",
       "    </tr>\n",
       "    <tr>\n",
       "      <th>Marie Doro</th>\n",
       "      <td>13</td>\n",
       "      <td>1.000000</td>\n",
       "    </tr>\n",
       "    <tr>\n",
       "      <th>William S. Hart</th>\n",
       "      <td>50</td>\n",
       "      <td>1.000000</td>\n",
       "    </tr>\n",
       "    <tr>\n",
       "      <th>Jackson Gondo</th>\n",
       "      <td>14</td>\n",
       "      <td>1.000000</td>\n",
       "    </tr>\n",
       "    <tr>\n",
       "      <th>Ahmed Zaki</th>\n",
       "      <td>13</td>\n",
       "      <td>1.000000</td>\n",
       "    </tr>\n",
       "    <tr>\n",
       "      <th>Olga Petrova</th>\n",
       "      <td>32</td>\n",
       "      <td>1.000000</td>\n",
       "    </tr>\n",
       "    <tr>\n",
       "      <th>Stanley Lupino</th>\n",
       "      <td>11</td>\n",
       "      <td>1.000000</td>\n",
       "    </tr>\n",
       "    <tr>\n",
       "      <th>George Beban</th>\n",
       "      <td>16</td>\n",
       "      <td>1.000000</td>\n",
       "    </tr>\n",
       "    <tr>\n",
       "      <th>Emmy Wehlen</th>\n",
       "      <td>19</td>\n",
       "      <td>1.000000</td>\n",
       "    </tr>\n",
       "    <tr>\n",
       "      <th>Evelyn Nesbit</th>\n",
       "      <td>10</td>\n",
       "      <td>1.000000</td>\n",
       "    </tr>\n",
       "    <tr>\n",
       "      <th>Mark Forest</th>\n",
       "      <td>12</td>\n",
       "      <td>1.000000</td>\n",
       "    </tr>\n",
       "    <tr>\n",
       "      <th>Jeyam Ravi</th>\n",
       "      <td>20</td>\n",
       "      <td>1.000000</td>\n",
       "    </tr>\n",
       "    <tr>\n",
       "      <th>Edna Goodrich</th>\n",
       "      <td>11</td>\n",
       "      <td>1.000000</td>\n",
       "    </tr>\n",
       "    <tr>\n",
       "      <th>Asta Nielsen</th>\n",
       "      <td>11</td>\n",
       "      <td>1.000000</td>\n",
       "    </tr>\n",
       "    <tr>\n",
       "      <th>June Caprice</th>\n",
       "      <td>20</td>\n",
       "      <td>1.000000</td>\n",
       "    </tr>\n",
       "    <tr>\n",
       "      <th>Zhen Zhen</th>\n",
       "      <td>11</td>\n",
       "      <td>1.000000</td>\n",
       "    </tr>\n",
       "    <tr>\n",
       "      <th>George Formby</th>\n",
       "      <td>21</td>\n",
       "      <td>1.000000</td>\n",
       "    </tr>\n",
       "    <tr>\n",
       "      <th>Fannie Ward</th>\n",
       "      <td>25</td>\n",
       "      <td>1.000000</td>\n",
       "    </tr>\n",
       "    <tr>\n",
       "      <th>Yilmaz G?ney</th>\n",
       "      <td>58</td>\n",
       "      <td>1.017241</td>\n",
       "    </tr>\n",
       "    <tr>\n",
       "      <th>Mary Pickford</th>\n",
       "      <td>57</td>\n",
       "      <td>1.035088</td>\n",
       "    </tr>\n",
       "    <tr>\n",
       "      <th>Gustavo Goulart</th>\n",
       "      <td>27</td>\n",
       "      <td>1.037037</td>\n",
       "    </tr>\n",
       "    <tr>\n",
       "      <th>Junior N.T.R.</th>\n",
       "      <td>25</td>\n",
       "      <td>1.040000</td>\n",
       "    </tr>\n",
       "    <tr>\n",
       "      <th>Pearl White</th>\n",
       "      <td>22</td>\n",
       "      <td>1.045455</td>\n",
       "    </tr>\n",
       "    <tr>\n",
       "      <th>Jess Lapid</th>\n",
       "      <td>21</td>\n",
       "      <td>1.047619</td>\n",
       "    </tr>\n",
       "    <tr>\n",
       "      <th>Ruth Roland</th>\n",
       "      <td>20</td>\n",
       "      <td>1.050000</td>\n",
       "    </tr>\n",
       "    <tr>\n",
       "      <th>Lilian Harvey</th>\n",
       "      <td>36</td>\n",
       "      <td>1.055556</td>\n",
       "    </tr>\n",
       "    <tr>\n",
       "      <th>Henny Porten</th>\n",
       "      <td>17</td>\n",
       "      <td>1.058824</td>\n",
       "    </tr>\n",
       "    <tr>\n",
       "      <th>Tom Mix</th>\n",
       "      <td>98</td>\n",
       "      <td>1.061224</td>\n",
       "    </tr>\n",
       "    <tr>\n",
       "      <th>Hyung-rae Shim</th>\n",
       "      <td>16</td>\n",
       "      <td>1.062500</td>\n",
       "    </tr>\n",
       "    <tr>\n",
       "      <th>Vlasta Burian</th>\n",
       "      <td>15</td>\n",
       "      <td>1.066667</td>\n",
       "    </tr>\n",
       "    <tr>\n",
       "      <th>Sumanth</th>\n",
       "      <td>15</td>\n",
       "      <td>1.066667</td>\n",
       "    </tr>\n",
       "    <tr>\n",
       "      <th>Alberto Olmedo</th>\n",
       "      <td>15</td>\n",
       "      <td>1.066667</td>\n",
       "    </tr>\n",
       "    <tr>\n",
       "      <th>Dai Lin</th>\n",
       "      <td>14</td>\n",
       "      <td>1.071429</td>\n",
       "    </tr>\n",
       "    <tr>\n",
       "      <th>Suk-kyu Han</th>\n",
       "      <td>14</td>\n",
       "      <td>1.071429</td>\n",
       "    </tr>\n",
       "    <tr>\n",
       "      <th>Dustin Farnum</th>\n",
       "      <td>39</td>\n",
       "      <td>1.076923</td>\n",
       "    </tr>\n",
       "    <tr>\n",
       "      <th>Gippy Grewal</th>\n",
       "      <td>13</td>\n",
       "      <td>1.076923</td>\n",
       "    </tr>\n",
       "    <tr>\n",
       "      <th>Vivian Martin</th>\n",
       "      <td>38</td>\n",
       "      <td>1.078947</td>\n",
       "    </tr>\n",
       "    <tr>\n",
       "      <th>Manolo Escobar</th>\n",
       "      <td>11</td>\n",
       "      <td>1.090909</td>\n",
       "    </tr>\n",
       "    <tr>\n",
       "      <th>Jan Kiepura</th>\n",
       "      <td>11</td>\n",
       "      <td>1.090909</td>\n",
       "    </tr>\n",
       "    <tr>\n",
       "      <th>Rajkumar</th>\n",
       "      <td>11</td>\n",
       "      <td>1.090909</td>\n",
       "    </tr>\n",
       "    <tr>\n",
       "      <th>Hazel Dawn</th>\n",
       "      <td>11</td>\n",
       "      <td>1.090909</td>\n",
       "    </tr>\n",
       "    <tr>\n",
       "      <th>Mary Miles Minter</th>\n",
       "      <td>51</td>\n",
       "      <td>1.098039</td>\n",
       "    </tr>\n",
       "    <tr>\n",
       "      <th>Grace Moore</th>\n",
       "      <td>10</td>\n",
       "      <td>1.100000</td>\n",
       "    </tr>\n",
       "    <tr>\n",
       "      <th>Farid Al Atrache</th>\n",
       "      <td>10</td>\n",
       "      <td>1.100000</td>\n",
       "    </tr>\n",
       "    <tr>\n",
       "      <th>Vasilis Logothetidis</th>\n",
       "      <td>10</td>\n",
       "      <td>1.100000</td>\n",
       "    </tr>\n",
       "    <tr>\n",
       "      <th>Puneeth Rajkumar</th>\n",
       "      <td>10</td>\n",
       "      <td>1.100000</td>\n",
       "    </tr>\n",
       "  </tbody>\n",
       "</table>\n",
       "</div>"
      ],
      "text/plain": [
       "                      size      mean\n",
       "name                                \n",
       "Harold Lloyd            20  1.000000\n",
       "Prabhas                 18  1.000000\n",
       "Joe Sears               10  1.000000\n",
       "Emily Stevens           16  1.000000\n",
       "Stefan Kramer           19  1.000000\n",
       "Billie Rhodes           10  1.000000\n",
       "Ganesh (XII)            23  1.000000\n",
       "Am?cio Mazzaropi        21  1.000000\n",
       "Carl Brisson            11  1.000000\n",
       "Ram (VII)               11  1.000000\n",
       "Anders Matthesen        13  1.000000\n",
       "Tristan Newcomb         10  1.000000\n",
       "Suzzanna                12  1.000000\n",
       "Will Hay                19  1.000000\n",
       "Valeska Suratt          11  1.000000\n",
       "Marie Doro              13  1.000000\n",
       "William S. Hart         50  1.000000\n",
       "Jackson Gondo           14  1.000000\n",
       "Ahmed Zaki              13  1.000000\n",
       "Olga Petrova            32  1.000000\n",
       "Stanley Lupino          11  1.000000\n",
       "George Beban            16  1.000000\n",
       "Emmy Wehlen             19  1.000000\n",
       "Evelyn Nesbit           10  1.000000\n",
       "Mark Forest             12  1.000000\n",
       "Jeyam Ravi              20  1.000000\n",
       "Edna Goodrich           11  1.000000\n",
       "Asta Nielsen            11  1.000000\n",
       "June Caprice            20  1.000000\n",
       "Zhen Zhen               11  1.000000\n",
       "George Formby           21  1.000000\n",
       "Fannie Ward             25  1.000000\n",
       "Yilmaz G?ney            58  1.017241\n",
       "Mary Pickford           57  1.035088\n",
       "Gustavo Goulart         27  1.037037\n",
       "Junior N.T.R.           25  1.040000\n",
       "Pearl White             22  1.045455\n",
       "Jess Lapid              21  1.047619\n",
       "Ruth Roland             20  1.050000\n",
       "Lilian Harvey           36  1.055556\n",
       "Henny Porten            17  1.058824\n",
       "Tom Mix                 98  1.061224\n",
       "Hyung-rae Shim          16  1.062500\n",
       "Vlasta Burian           15  1.066667\n",
       "Sumanth                 15  1.066667\n",
       "Alberto Olmedo          15  1.066667\n",
       "Dai Lin                 14  1.071429\n",
       "Suk-kyu Han             14  1.071429\n",
       "Dustin Farnum           39  1.076923\n",
       "Gippy Grewal            13  1.076923\n",
       "Vivian Martin           38  1.078947\n",
       "Manolo Escobar          11  1.090909\n",
       "Jan Kiepura             11  1.090909\n",
       "Rajkumar                11  1.090909\n",
       "Hazel Dawn              11  1.090909\n",
       "Mary Miles Minter       51  1.098039\n",
       "Grace Moore             10  1.100000\n",
       "Farid Al Atrache        10  1.100000\n",
       "Vasilis Logothetidis    10  1.100000\n",
       "Puneeth Rajkumar        10  1.100000"
      ]
     },
     "execution_count": 132,
     "metadata": {},
     "output_type": "execute_result"
    }
   ],
   "source": [
    "c = c[c['size'] >= 10]\n",
    "c = c.sort_values('mean')\n",
    "c.head(60)"
   ]
  },
  {
   "cell_type": "code",
   "execution_count": null,
   "metadata": {
    "collapsed": true
   },
   "outputs": [],
   "source": []
  },
  {
   "cell_type": "markdown",
   "metadata": {
    "collapsed": true
   },
   "source": [
    "### Release dates"
   ]
  },
  {
   "cell_type": "code",
   "execution_count": 133,
   "metadata": {},
   "outputs": [
    {
     "data": {
      "text/html": [
       "<div>\n",
       "<style>\n",
       "    .dataframe thead tr:only-child th {\n",
       "        text-align: right;\n",
       "    }\n",
       "\n",
       "    .dataframe thead th {\n",
       "        text-align: left;\n",
       "    }\n",
       "\n",
       "    .dataframe tbody tr th {\n",
       "        vertical-align: top;\n",
       "    }\n",
       "</style>\n",
       "<table border=\"1\" class=\"dataframe\">\n",
       "  <thead>\n",
       "    <tr style=\"text-align: right;\">\n",
       "      <th></th>\n",
       "      <th>title</th>\n",
       "      <th>year</th>\n",
       "      <th>country</th>\n",
       "      <th>date</th>\n",
       "    </tr>\n",
       "  </thead>\n",
       "  <tbody>\n",
       "    <tr>\n",
       "      <th>0</th>\n",
       "      <td>#73, Shaanthi Nivaasa</td>\n",
       "      <td>2007</td>\n",
       "      <td>India</td>\n",
       "      <td>2007-06-15</td>\n",
       "    </tr>\n",
       "    <tr>\n",
       "      <th>1</th>\n",
       "      <td>#Beings</td>\n",
       "      <td>2015</td>\n",
       "      <td>Romania</td>\n",
       "      <td>2015-01-29</td>\n",
       "    </tr>\n",
       "    <tr>\n",
       "      <th>2</th>\n",
       "      <td>#Ewankosau saranghaeyo</td>\n",
       "      <td>2015</td>\n",
       "      <td>Philippines</td>\n",
       "      <td>2015-01-21</td>\n",
       "    </tr>\n",
       "    <tr>\n",
       "      <th>3</th>\n",
       "      <td>#Horror</td>\n",
       "      <td>2015</td>\n",
       "      <td>USA</td>\n",
       "      <td>2015-11-20</td>\n",
       "    </tr>\n",
       "    <tr>\n",
       "      <th>4</th>\n",
       "      <td>#Horror</td>\n",
       "      <td>2015</td>\n",
       "      <td>UK</td>\n",
       "      <td>2016-05-16</td>\n",
       "    </tr>\n",
       "  </tbody>\n",
       "</table>\n",
       "</div>"
      ],
      "text/plain": [
       "                    title  year      country       date\n",
       "0   #73, Shaanthi Nivaasa  2007        India 2007-06-15\n",
       "1                 #Beings  2015      Romania 2015-01-29\n",
       "2  #Ewankosau saranghaeyo  2015  Philippines 2015-01-21\n",
       "3                 #Horror  2015          USA 2015-11-20\n",
       "4                 #Horror  2015           UK 2016-05-16"
      ]
     },
     "execution_count": 133,
     "metadata": {},
     "output_type": "execute_result"
    }
   ],
   "source": [
    "release_dates.head()"
   ]
  },
  {
   "cell_type": "code",
   "execution_count": 134,
   "metadata": {},
   "outputs": [
    {
     "data": {
      "text/plain": [
       "12    3\n",
       "11    1\n",
       "Name: date, dtype: int64"
      ]
     },
     "execution_count": 134,
     "metadata": {},
     "output_type": "execute_result"
    }
   ],
   "source": [
    "# 5. In which month is a movie whose name starts with the text\n",
    "#    \"The Lord of the Rings\" most likely to be released?\n",
    "\n",
    "r = release_dates\n",
    "r = r[r.title.str.startswith('The Lord of the Rings')]\n",
    "r = r[r.country == 'USA']\n",
    "r.date.dt.month.value_counts()"
   ]
  },
  {
   "cell_type": "code",
   "execution_count": 135,
   "metadata": {},
   "outputs": [
    {
     "data": {
      "text/plain": [
       "11    24\n",
       "12    14\n",
       "10     9\n",
       "8      1\n",
       "7      1\n",
       "4      1\n",
       "2      1\n",
       "1      1\n",
       "Name: date, dtype: int64"
      ]
     },
     "execution_count": 135,
     "metadata": {},
     "output_type": "execute_result"
    }
   ],
   "source": [
    "# 5. In which months is a movie whose name ends in the word \"Christmas\"\n",
    "#    most likely to be released?\n",
    "\n",
    "r = release_dates\n",
    "r = r[r.title.str.endswith('Christmas')]\n",
    "r = r[r.country == 'USA']\n",
    "r.date.dt.month.value_counts()"
   ]
  },
  {
   "cell_type": "code",
   "execution_count": 136,
   "metadata": {},
   "outputs": [
    {
     "data": {
      "text/html": [
       "<div>\n",
       "<style>\n",
       "    .dataframe thead tr:only-child th {\n",
       "        text-align: right;\n",
       "    }\n",
       "\n",
       "    .dataframe thead th {\n",
       "        text-align: left;\n",
       "    }\n",
       "\n",
       "    .dataframe tbody tr th {\n",
       "        vertical-align: top;\n",
       "    }\n",
       "</style>\n",
       "<table border=\"1\" class=\"dataframe\">\n",
       "  <thead>\n",
       "    <tr style=\"text-align: right;\">\n",
       "      <th></th>\n",
       "      <th></th>\n",
       "      <th>country</th>\n",
       "      <th>date</th>\n",
       "    </tr>\n",
       "    <tr>\n",
       "      <th>title</th>\n",
       "      <th>year</th>\n",
       "      <th></th>\n",
       "      <th></th>\n",
       "    </tr>\n",
       "  </thead>\n",
       "  <tbody>\n",
       "    <tr>\n",
       "      <th>#73, Shaanthi Nivaasa</th>\n",
       "      <th>2007</th>\n",
       "      <td>India</td>\n",
       "      <td>2007-06-15</td>\n",
       "    </tr>\n",
       "    <tr>\n",
       "      <th>#Beings</th>\n",
       "      <th>2015</th>\n",
       "      <td>Romania</td>\n",
       "      <td>2015-01-29</td>\n",
       "    </tr>\n",
       "    <tr>\n",
       "      <th>#Ewankosau saranghaeyo</th>\n",
       "      <th>2015</th>\n",
       "      <td>Philippines</td>\n",
       "      <td>2015-01-21</td>\n",
       "    </tr>\n",
       "    <tr>\n",
       "      <th rowspan=\"2\" valign=\"top\">#Horror</th>\n",
       "      <th>2015</th>\n",
       "      <td>USA</td>\n",
       "      <td>2015-11-20</td>\n",
       "    </tr>\n",
       "    <tr>\n",
       "      <th>2015</th>\n",
       "      <td>UK</td>\n",
       "      <td>2016-05-16</td>\n",
       "    </tr>\n",
       "  </tbody>\n",
       "</table>\n",
       "</div>"
      ],
      "text/plain": [
       "                                 country       date\n",
       "title                  year                        \n",
       "#73, Shaanthi Nivaasa  2007        India 2007-06-15\n",
       "#Beings                2015      Romania 2015-01-29\n",
       "#Ewankosau saranghaeyo 2015  Philippines 2015-01-21\n",
       "#Horror                2015          USA 2015-11-20\n",
       "                       2015           UK 2016-05-16"
      ]
     },
     "execution_count": 136,
     "metadata": {},
     "output_type": "execute_result"
    }
   ],
   "source": [
    "rd = release_dates.set_index(['title', 'year']).sort_index()\n",
    "rd.head()"
   ]
  },
  {
   "cell_type": "code",
   "execution_count": 137,
   "metadata": {},
   "outputs": [
    {
     "data": {
      "text/html": [
       "<div>\n",
       "<style>\n",
       "    .dataframe thead tr:only-child th {\n",
       "        text-align: right;\n",
       "    }\n",
       "\n",
       "    .dataframe thead th {\n",
       "        text-align: left;\n",
       "    }\n",
       "\n",
       "    .dataframe tbody tr th {\n",
       "        vertical-align: top;\n",
       "    }\n",
       "</style>\n",
       "<table border=\"1\" class=\"dataframe\">\n",
       "  <thead>\n",
       "    <tr style=\"text-align: right;\">\n",
       "      <th></th>\n",
       "      <th></th>\n",
       "      <th>country</th>\n",
       "      <th>date</th>\n",
       "    </tr>\n",
       "    <tr>\n",
       "      <th>title</th>\n",
       "      <th>year</th>\n",
       "      <th></th>\n",
       "      <th></th>\n",
       "    </tr>\n",
       "  </thead>\n",
       "  <tbody>\n",
       "    <tr>\n",
       "      <th>#Beings</th>\n",
       "      <th>2015</th>\n",
       "      <td>Romania</td>\n",
       "      <td>2015-01-29</td>\n",
       "    </tr>\n",
       "    <tr>\n",
       "      <th rowspan=\"2\" valign=\"top\">#Horror</th>\n",
       "      <th>2015</th>\n",
       "      <td>USA</td>\n",
       "      <td>2015-11-20</td>\n",
       "    </tr>\n",
       "    <tr>\n",
       "      <th>2015</th>\n",
       "      <td>UK</td>\n",
       "      <td>2016-05-16</td>\n",
       "    </tr>\n",
       "  </tbody>\n",
       "</table>\n",
       "</div>"
      ],
      "text/plain": [
       "              country       date\n",
       "title   year                    \n",
       "#Beings 2015  Romania 2015-01-29\n",
       "#Horror 2015      USA 2015-11-20\n",
       "        2015       UK 2016-05-16"
      ]
     },
     "execution_count": 137,
     "metadata": {},
     "output_type": "execute_result"
    }
   ],
   "source": [
    "rd.loc[[('#Beings', 2015), ('#Horror', 2015)]]"
   ]
  },
  {
   "cell_type": "code",
   "execution_count": 138,
   "metadata": {},
   "outputs": [
    {
     "data": {
      "text/plain": [
       "array([['A Few Good Men', 1992],\n",
       "       ['All the Right Moves', 1983],\n",
       "       ['American Made', 2017],\n",
       "       ['August', 2008],\n",
       "       ['Austin Powers in Goldmember', 2002],\n",
       "       ['Born on the Fourth of July', 1989],\n",
       "       ['Cocktail', 1988],\n",
       "       ['Collateral', 2004],\n",
       "       ['Days of Thunder', 1990],\n",
       "       ['Edge of Tomorrow', 2014],\n",
       "       ['Endless Love', 1981],\n",
       "       ['Eyes Wide Shut', 1999],\n",
       "       ['Far and Away', 1992],\n",
       "       ['Interview with the Vampire: The Vampire Chronicles', 1994],\n",
       "       ['Jack Reacher', 2012],\n",
       "       ['Jack Reacher: Never Go Back', 2016],\n",
       "       ['Jerry Maguire', 1996],\n",
       "       ['Knight and Day', 2010],\n",
       "       ['Legend', 1985],\n",
       "       ['Lions for Lambs', 2007],\n",
       "       [\"Losin' It\", 1983],\n",
       "       ['Magnolia', 1999],\n",
       "       ['Minority Report', 2002],\n",
       "       ['Mission: Impossible', 1996],\n",
       "       ['Mission: Impossible - Ghost Protocol', 2011],\n",
       "       ['Mission: Impossible - Rogue Nation', 2015],\n",
       "       ['Mission: Impossible 6', 2018],\n",
       "       ['Mission: Impossible II', 2000],\n",
       "       ['Mission: Impossible III', 2006],\n",
       "       ['Oblivion', 2013],\n",
       "       ['Rain Man', 1988],\n",
       "       ['Risky Business', 1983],\n",
       "       ['Rock of Ages', 2012],\n",
       "       ['Taps', 1981],\n",
       "       ['The Big Short', 2015],\n",
       "       ['The Color of Money', 1986],\n",
       "       ['The Firm', 1993],\n",
       "       ['The Last Samurai', 2003],\n",
       "       ['The Mummy', 2017],\n",
       "       ['The Outsiders', 1983],\n",
       "       ['The Queen', 2006],\n",
       "       ['Top Gun', 1986],\n",
       "       ['Tropic Thunder', 2008],\n",
       "       ['Valkyrie', 2008],\n",
       "       ['Vanilla Sky', 2001],\n",
       "       ['War of the Worlds', 2005]], dtype=object)"
      ]
     },
     "execution_count": 138,
     "metadata": {},
     "output_type": "execute_result"
    }
   ],
   "source": [
    "c = cast\n",
    "c = c[c.name == 'Tom Cruise'][['title', 'year']].drop_duplicates()\n",
    "#c = c.join(rd, ['title', 'year'])\n",
    "#c = c[c.country == 'USA']\n",
    "#c.date.dt.month.value_counts().sort_index().plot(kind='bar')\n",
    "c.values"
   ]
  },
  {
   "cell_type": "code",
   "execution_count": null,
   "metadata": {},
   "outputs": [],
   "source": [
    "# ASK\n",
    "# rd.loc[c]\n",
    "# rd.loc[c.values]\n",
    "# rd.loc[list(c.values)]"
   ]
  },
  {
   "cell_type": "code",
   "execution_count": 139,
   "metadata": {},
   "outputs": [
    {
     "data": {
      "text/plain": [
       "<matplotlib.axes._subplots.AxesSubplot at 0x141ebc080>"
      ]
     },
     "execution_count": 139,
     "metadata": {},
     "output_type": "execute_result"
    },
    {
     "data": {
      "image/png": "[encoded data removed]",
      "text/plain": [
       "<matplotlib.figure.Figure at 0x14206f390>"
      ]
     },
     "metadata": {},
     "output_type": "display_data"
    }
   ],
   "source": [
    "# 5. In what months of the year have Helen Mirren movies been most often released?\n",
    "\n",
    "c = cast\n",
    "c = c[c.name == 'Helen Mirren'][['title', 'year']].drop_duplicates()\n",
    "c = c.join(rd, ['title', 'year'])\n",
    "c = c[c.country == 'USA']\n",
    "c.date.dt.month.value_counts().sort_index().plot(kind='bar')"
   ]
  },
  {
   "cell_type": "code",
   "execution_count": 140,
   "metadata": {},
   "outputs": [
    {
     "data": {
      "text/plain": [
       "<matplotlib.axes._subplots.AxesSubplot at 0x114db29b0>"
      ]
     },
     "execution_count": 140,
     "metadata": {},
     "output_type": "execute_result"
    },
    {
     "data": {
      "image/png": "[encoded data removed]",
      "text/plain": [
       "<matplotlib.figure.Figure at 0x14206f080>"
      ]
     },
     "metadata": {},
     "output_type": "display_data"
    }
   ],
   "source": [
    "# 5. …Jeff Bridges movies?\n",
    "\n",
    "c = cast\n",
    "c = c[c.name == 'Jeff Bridges'][['title', 'year']].drop_duplicates()\n",
    "c = c.join(rd, ['title', 'year'])\n",
    "c = c[c.country == 'USA']\n",
    "c.date.dt.month.value_counts().sort_index().plot(kind='bar')"
   ]
  },
  {
   "cell_type": "code",
   "execution_count": 141,
   "metadata": {},
   "outputs": [
    {
     "data": {
      "text/plain": [
       "<matplotlib.axes._subplots.AxesSubplot at 0x114dd1908>"
      ]
     },
     "execution_count": 141,
     "metadata": {},
     "output_type": "execute_result"
    },
    {
     "data": {
      "image/png": "[encoded data removed]",
      "text/plain": [
       "<matplotlib.figure.Figure at 0x13b7f0278>"
      ]
     },
     "metadata": {},
     "output_type": "display_data"
    }
   ],
   "source": [
    "# 5. …Tom Cruise movies?\n",
    "\n",
    "c = cast\n",
    "c = c[c.name == 'Tom Cruise'][['title', 'year']].drop_duplicates()\n",
    "c = c.join(rd, ['title', 'year'])\n",
    "c = c[c.country == 'USA']\n",
    "c.date.dt.month.value_counts().sort_index().plot(kind='bar')"
   ]
  },
  {
   "cell_type": "code",
   "execution_count": 142,
   "metadata": {},
   "outputs": [
    {
     "name": "stdout",
     "output_type": "stream",
     "text": [
      "CPU times: user 8.6 s, sys: 1.81 s, total: 10.4 s\n",
      "Wall time: 10.7 s\n"
     ]
    }
   ],
   "source": [
    "%%time\n",
    "# 5. Use join() to build a table of release dates indexed by actor,\n",
    "#    and use it to re-run the previous three questions efficiently.\n",
    "\n",
    "c = cast\n",
    "c = c[['name', 'title', 'year']]\n",
    "c = c.join(rd, ['title', 'year'])\n",
    "c = c[c.country == 'USA']\n",
    "c = c.set_index('name').sort_index()\n",
    "releases = c\n",
    "releases.head()"
   ]
  },
  {
   "cell_type": "code",
   "execution_count": 143,
   "metadata": {},
   "outputs": [
    {
     "data": {
      "text/plain": [
       "<matplotlib.axes._subplots.AxesSubplot at 0x13994a080>"
      ]
     },
     "execution_count": 143,
     "metadata": {},
     "output_type": "execute_result"
    },
    {
     "data": {
      "image/png": "[encoded data removed]",
      "text/plain": [
       "<matplotlib.figure.Figure at 0x127897668>"
      ]
     },
     "metadata": {},
     "output_type": "display_data"
    }
   ],
   "source": [
    "releases.loc['Tom Cruise'].date.dt.month.value_counts().sort_index().plot(kind='bar')"
   ]
  },
  {
   "cell_type": "code",
   "execution_count": 144,
   "metadata": {},
   "outputs": [],
   "source": [
    "# pivot(self, index=None, columns=None, values=None)"
   ]
  },
  {
   "cell_type": "code",
   "execution_count": 145,
   "metadata": {},
   "outputs": [
    {
     "data": {
      "text/html": [
       "<div>\n",
       "<style>\n",
       "    .dataframe thead tr:only-child th {\n",
       "        text-align: right;\n",
       "    }\n",
       "\n",
       "    .dataframe thead th {\n",
       "        text-align: left;\n",
       "    }\n",
       "\n",
       "    .dataframe tbody tr th {\n",
       "        vertical-align: top;\n",
       "    }\n",
       "</style>\n",
       "<table border=\"1\" class=\"dataframe\">\n",
       "  <thead>\n",
       "    <tr style=\"text-align: right;\">\n",
       "      <th></th>\n",
       "      <th>title</th>\n",
       "      <th>year</th>\n",
       "      <th>name</th>\n",
       "      <th>type</th>\n",
       "      <th>character</th>\n",
       "      <th>n</th>\n",
       "    </tr>\n",
       "  </thead>\n",
       "  <tbody>\n",
       "    <tr>\n",
       "      <th>0</th>\n",
       "      <td>Closet Monster</td>\n",
       "      <td>2015</td>\n",
       "      <td>Buffy #1</td>\n",
       "      <td>actor</td>\n",
       "      <td>Buffy 4</td>\n",
       "      <td>31.0</td>\n",
       "    </tr>\n",
       "    <tr>\n",
       "      <th>1</th>\n",
       "      <td>Suuri illusioni</td>\n",
       "      <td>1985</td>\n",
       "      <td>Homo $</td>\n",
       "      <td>actor</td>\n",
       "      <td>Guests</td>\n",
       "      <td>22.0</td>\n",
       "    </tr>\n",
       "    <tr>\n",
       "      <th>2</th>\n",
       "      <td>Battle of the Sexes</td>\n",
       "      <td>2017</td>\n",
       "      <td>$hutter</td>\n",
       "      <td>actor</td>\n",
       "      <td>Bobby Riggs Fan</td>\n",
       "      <td>10.0</td>\n",
       "    </tr>\n",
       "    <tr>\n",
       "      <th>3</th>\n",
       "      <td>Secret in Their Eyes</td>\n",
       "      <td>2015</td>\n",
       "      <td>$hutter</td>\n",
       "      <td>actor</td>\n",
       "      <td>2002 Dodger Fan</td>\n",
       "      <td>NaN</td>\n",
       "    </tr>\n",
       "    <tr>\n",
       "      <th>4</th>\n",
       "      <td>Steve Jobs</td>\n",
       "      <td>2015</td>\n",
       "      <td>$hutter</td>\n",
       "      <td>actor</td>\n",
       "      <td>1988 Opera House Patron</td>\n",
       "      <td>NaN</td>\n",
       "    </tr>\n",
       "  </tbody>\n",
       "</table>\n",
       "</div>"
      ],
      "text/plain": [
       "                  title  year      name   type                character     n\n",
       "0        Closet Monster  2015  Buffy #1  actor                  Buffy 4  31.0\n",
       "1       Suuri illusioni  1985    Homo $  actor                   Guests  22.0\n",
       "2   Battle of the Sexes  2017   $hutter  actor          Bobby Riggs Fan  10.0\n",
       "3  Secret in Their Eyes  2015   $hutter  actor          2002 Dodger Fan   NaN\n",
       "4            Steve Jobs  2015   $hutter  actor  1988 Opera House Patron   NaN"
      ]
     },
     "execution_count": 145,
     "metadata": {},
     "output_type": "execute_result"
    }
   ],
   "source": [
    "cast.head()"
   ]
  },
  {
   "cell_type": "code",
   "execution_count": 146,
   "metadata": {},
   "outputs": [
    {
     "data": {
      "text/html": [
       "<div>\n",
       "<style>\n",
       "    .dataframe thead tr:only-child th {\n",
       "        text-align: right;\n",
       "    }\n",
       "\n",
       "    .dataframe thead th {\n",
       "        text-align: left;\n",
       "    }\n",
       "\n",
       "    .dataframe tbody tr th {\n",
       "        vertical-align: top;\n",
       "    }\n",
       "</style>\n",
       "<table border=\"1\" class=\"dataframe\">\n",
       "  <thead>\n",
       "    <tr style=\"text-align: right;\">\n",
       "      <th></th>\n",
       "      <th>title</th>\n",
       "      <th>year</th>\n",
       "      <th>name</th>\n",
       "      <th>type</th>\n",
       "      <th>character</th>\n",
       "      <th>n</th>\n",
       "    </tr>\n",
       "  </thead>\n",
       "  <tbody>\n",
       "    <tr>\n",
       "      <th>433830</th>\n",
       "      <td>The Harvest</td>\n",
       "      <td>1992</td>\n",
       "      <td>George Clooney</td>\n",
       "      <td>actor</td>\n",
       "      <td>Lip Syncing Transvestite</td>\n",
       "      <td>23.0</td>\n",
       "    </tr>\n",
       "    <tr>\n",
       "      <th>433840</th>\n",
       "      <td>Unbecoming Age</td>\n",
       "      <td>1992</td>\n",
       "      <td>George Clooney</td>\n",
       "      <td>actor</td>\n",
       "      <td>Mac</td>\n",
       "      <td>5.0</td>\n",
       "    </tr>\n",
       "  </tbody>\n",
       "</table>\n",
       "</div>"
      ],
      "text/plain": [
       "                 title  year            name   type                 character  \\\n",
       "433830     The Harvest  1992  George Clooney  actor  Lip Syncing Transvestite   \n",
       "433840  Unbecoming Age  1992  George Clooney  actor                       Mac   \n",
       "\n",
       "           n  \n",
       "433830  23.0  \n",
       "433840   5.0  "
      ]
     },
     "execution_count": 146,
     "metadata": {},
     "output_type": "execute_result"
    }
   ],
   "source": [
    "c = cast\n",
    "c = c[c.year >= 1990]\n",
    "c = c[c.year <= 1993]\n",
    "c = c[c.name == 'George Clooney']\n",
    "#c = c[c.title == 'Inception']\n",
    "#c = c[c.n.notnull()]\n",
    "#c = c.pivot('name', 'year', 'title')\n",
    "c.fillna('')"
   ]
  },
  {
   "cell_type": "code",
   "execution_count": null,
   "metadata": {
    "collapsed": true
   },
   "outputs": [],
   "source": []
  },
  {
   "cell_type": "code",
   "execution_count": 147,
   "metadata": {},
   "outputs": [
    {
     "data": {
      "text/html": [
       "<div>\n",
       "<style>\n",
       "    .dataframe thead tr:only-child th {\n",
       "        text-align: right;\n",
       "    }\n",
       "\n",
       "    .dataframe thead th {\n",
       "        text-align: left;\n",
       "    }\n",
       "\n",
       "    .dataframe tbody tr th {\n",
       "        vertical-align: top;\n",
       "    }\n",
       "</style>\n",
       "<table border=\"1\" class=\"dataframe\">\n",
       "  <thead>\n",
       "    <tr style=\"text-align: right;\">\n",
       "      <th></th>\n",
       "      <th>title</th>\n",
       "      <th>year</th>\n",
       "      <th>country</th>\n",
       "      <th>date</th>\n",
       "    </tr>\n",
       "  </thead>\n",
       "  <tbody>\n",
       "    <tr>\n",
       "      <th>0</th>\n",
       "      <td>#73, Shaanthi Nivaasa</td>\n",
       "      <td>2007</td>\n",
       "      <td>India</td>\n",
       "      <td>2007-06-15</td>\n",
       "    </tr>\n",
       "    <tr>\n",
       "      <th>1</th>\n",
       "      <td>#Beings</td>\n",
       "      <td>2015</td>\n",
       "      <td>Romania</td>\n",
       "      <td>2015-01-29</td>\n",
       "    </tr>\n",
       "    <tr>\n",
       "      <th>2</th>\n",
       "      <td>#Ewankosau saranghaeyo</td>\n",
       "      <td>2015</td>\n",
       "      <td>Philippines</td>\n",
       "      <td>2015-01-21</td>\n",
       "    </tr>\n",
       "    <tr>\n",
       "      <th>3</th>\n",
       "      <td>#Horror</td>\n",
       "      <td>2015</td>\n",
       "      <td>USA</td>\n",
       "      <td>2015-11-20</td>\n",
       "    </tr>\n",
       "    <tr>\n",
       "      <th>4</th>\n",
       "      <td>#Horror</td>\n",
       "      <td>2015</td>\n",
       "      <td>UK</td>\n",
       "      <td>2016-05-16</td>\n",
       "    </tr>\n",
       "  </tbody>\n",
       "</table>\n",
       "</div>"
      ],
      "text/plain": [
       "                    title  year      country       date\n",
       "0   #73, Shaanthi Nivaasa  2007        India 2007-06-15\n",
       "1                 #Beings  2015      Romania 2015-01-29\n",
       "2  #Ewankosau saranghaeyo  2015  Philippines 2015-01-21\n",
       "3                 #Horror  2015          USA 2015-11-20\n",
       "4                 #Horror  2015           UK 2016-05-16"
      ]
     },
     "execution_count": 147,
     "metadata": {},
     "output_type": "execute_result"
    }
   ],
   "source": [
    "release_dates.head()"
   ]
  },
  {
   "cell_type": "code",
   "execution_count": 148,
   "metadata": {},
   "outputs": [
    {
     "data": {
      "text/html": [
       "<div>\n",
       "<style>\n",
       "    .dataframe thead tr:only-child th {\n",
       "        text-align: right;\n",
       "    }\n",
       "\n",
       "    .dataframe thead th {\n",
       "        text-align: left;\n",
       "    }\n",
       "\n",
       "    .dataframe tbody tr th {\n",
       "        vertical-align: top;\n",
       "    }\n",
       "</style>\n",
       "<table border=\"1\" class=\"dataframe\">\n",
       "  <thead>\n",
       "    <tr style=\"text-align: right;\">\n",
       "      <th>country</th>\n",
       "      <th>UK</th>\n",
       "      <th>USA</th>\n",
       "      <th>Ukraine</th>\n",
       "      <th>United Arab Emirates</th>\n",
       "      <th>Uruguay</th>\n",
       "    </tr>\n",
       "    <tr>\n",
       "      <th>title</th>\n",
       "      <th></th>\n",
       "      <th></th>\n",
       "      <th></th>\n",
       "      <th></th>\n",
       "      <th></th>\n",
       "    </tr>\n",
       "  </thead>\n",
       "  <tbody>\n",
       "    <tr>\n",
       "      <th>Star Wars: Episode I - The Phantom Menace</th>\n",
       "      <td>1999-07-15</td>\n",
       "      <td>1999-05-19</td>\n",
       "      <td>NaT</td>\n",
       "      <td>1999-08-25</td>\n",
       "      <td>1999-07-02</td>\n",
       "    </tr>\n",
       "    <tr>\n",
       "      <th>Star Wars: Episode II - Attack of the Clones</th>\n",
       "      <td>2002-05-16</td>\n",
       "      <td>2002-05-16</td>\n",
       "      <td>2002-06-08</td>\n",
       "      <td>2002-05-16</td>\n",
       "      <td>2002-07-05</td>\n",
       "    </tr>\n",
       "    <tr>\n",
       "      <th>Star Wars: Episode III - Revenge of the Sith</th>\n",
       "      <td>2005-05-19</td>\n",
       "      <td>2005-05-19</td>\n",
       "      <td>NaT</td>\n",
       "      <td>2005-05-19</td>\n",
       "      <td>2005-05-18</td>\n",
       "    </tr>\n",
       "    <tr>\n",
       "      <th>Star Wars: Episode IX</th>\n",
       "      <td>2019-06-21</td>\n",
       "      <td>2019-05-24</td>\n",
       "      <td>NaT</td>\n",
       "      <td>NaT</td>\n",
       "      <td>NaT</td>\n",
       "    </tr>\n",
       "    <tr>\n",
       "      <th>Star Wars: Episode V - The Empire Strikes Back</th>\n",
       "      <td>1980-05-21</td>\n",
       "      <td>1980-06-20</td>\n",
       "      <td>NaT</td>\n",
       "      <td>NaT</td>\n",
       "      <td>1981-01-15</td>\n",
       "    </tr>\n",
       "    <tr>\n",
       "      <th>Star Wars: Episode VI - Return of the Jedi</th>\n",
       "      <td>1983-06-02</td>\n",
       "      <td>1983-05-25</td>\n",
       "      <td>NaT</td>\n",
       "      <td>NaT</td>\n",
       "      <td>1984-01-01</td>\n",
       "    </tr>\n",
       "    <tr>\n",
       "      <th>Star Wars: Episode VII - The Force Awakens</th>\n",
       "      <td>2015-12-17</td>\n",
       "      <td>2015-12-18</td>\n",
       "      <td>2015-12-17</td>\n",
       "      <td>2015-12-17</td>\n",
       "      <td>2015-12-17</td>\n",
       "    </tr>\n",
       "  </tbody>\n",
       "</table>\n",
       "</div>"
      ],
      "text/plain": [
       "country                                                UK        USA  \\\n",
       "title                                                                  \n",
       "Star Wars: Episode I - The Phantom Menace      1999-07-15 1999-05-19   \n",
       "Star Wars: Episode II - Attack of the Clones   2002-05-16 2002-05-16   \n",
       "Star Wars: Episode III - Revenge of the Sith   2005-05-19 2005-05-19   \n",
       "Star Wars: Episode IX                          2019-06-21 2019-05-24   \n",
       "Star Wars: Episode V - The Empire Strikes Back 1980-05-21 1980-06-20   \n",
       "Star Wars: Episode VI - Return of the Jedi     1983-06-02 1983-05-25   \n",
       "Star Wars: Episode VII - The Force Awakens     2015-12-17 2015-12-18   \n",
       "\n",
       "country                                           Ukraine  \\\n",
       "title                                                       \n",
       "Star Wars: Episode I - The Phantom Menace             NaT   \n",
       "Star Wars: Episode II - Attack of the Clones   2002-06-08   \n",
       "Star Wars: Episode III - Revenge of the Sith          NaT   \n",
       "Star Wars: Episode IX                                 NaT   \n",
       "Star Wars: Episode V - The Empire Strikes Back        NaT   \n",
       "Star Wars: Episode VI - Return of the Jedi            NaT   \n",
       "Star Wars: Episode VII - The Force Awakens     2015-12-17   \n",
       "\n",
       "country                                        United Arab Emirates    Uruguay  \n",
       "title                                                                           \n",
       "Star Wars: Episode I - The Phantom Menace                1999-08-25 1999-07-02  \n",
       "Star Wars: Episode II - Attack of the Clones             2002-05-16 2002-07-05  \n",
       "Star Wars: Episode III - Revenge of the Sith             2005-05-19 2005-05-18  \n",
       "Star Wars: Episode IX                                           NaT        NaT  \n",
       "Star Wars: Episode V - The Empire Strikes Back                  NaT 1981-01-15  \n",
       "Star Wars: Episode VI - Return of the Jedi                      NaT 1984-01-01  \n",
       "Star Wars: Episode VII - The Force Awakens               2015-12-17 2015-12-17  "
      ]
     },
     "execution_count": 148,
     "metadata": {},
     "output_type": "execute_result"
    }
   ],
   "source": [
    "r = release_dates\n",
    "r = r[r.title.str.startswith('Star Wars: Episode')]\n",
    "r = r[r.country.str.startswith('U')]\n",
    "r.pivot('title', 'country', 'date')\n",
    "#r.pivot('country', 'title', 'date')"
   ]
  },
  {
   "cell_type": "code",
   "execution_count": 149,
   "metadata": {},
   "outputs": [
    {
     "data": {
      "text/html": [
       "<div>\n",
       "<style>\n",
       "    .dataframe thead tr:only-child th {\n",
       "        text-align: right;\n",
       "    }\n",
       "\n",
       "    .dataframe thead th {\n",
       "        text-align: left;\n",
       "    }\n",
       "\n",
       "    .dataframe tbody tr th {\n",
       "        vertical-align: top;\n",
       "    }\n",
       "</style>\n",
       "<table border=\"1\" class=\"dataframe\">\n",
       "  <thead>\n",
       "    <tr>\n",
       "      <th></th>\n",
       "      <th colspan=\"5\" halign=\"left\">date</th>\n",
       "    </tr>\n",
       "    <tr>\n",
       "      <th>country</th>\n",
       "      <th>UK</th>\n",
       "      <th>USA</th>\n",
       "      <th>Ukraine</th>\n",
       "      <th>United Arab Emirates</th>\n",
       "      <th>Uruguay</th>\n",
       "    </tr>\n",
       "    <tr>\n",
       "      <th>title</th>\n",
       "      <th></th>\n",
       "      <th></th>\n",
       "      <th></th>\n",
       "      <th></th>\n",
       "      <th></th>\n",
       "    </tr>\n",
       "  </thead>\n",
       "  <tbody>\n",
       "    <tr>\n",
       "      <th>Star Wars: Episode I - The Phantom Menace</th>\n",
       "      <td>1999-07-15</td>\n",
       "      <td>1999-05-19</td>\n",
       "      <td>NaT</td>\n",
       "      <td>1999-08-25</td>\n",
       "      <td>1999-07-02</td>\n",
       "    </tr>\n",
       "    <tr>\n",
       "      <th>Star Wars: Episode II - Attack of the Clones</th>\n",
       "      <td>2002-05-16</td>\n",
       "      <td>2002-05-16</td>\n",
       "      <td>2002-06-08</td>\n",
       "      <td>2002-05-16</td>\n",
       "      <td>2002-07-05</td>\n",
       "    </tr>\n",
       "    <tr>\n",
       "      <th>Star Wars: Episode III - Revenge of the Sith</th>\n",
       "      <td>2005-05-19</td>\n",
       "      <td>2005-05-19</td>\n",
       "      <td>NaT</td>\n",
       "      <td>2005-05-19</td>\n",
       "      <td>2005-05-18</td>\n",
       "    </tr>\n",
       "    <tr>\n",
       "      <th>Star Wars: Episode IX</th>\n",
       "      <td>2019-06-21</td>\n",
       "      <td>2019-05-24</td>\n",
       "      <td>NaT</td>\n",
       "      <td>NaT</td>\n",
       "      <td>NaT</td>\n",
       "    </tr>\n",
       "    <tr>\n",
       "      <th>Star Wars: Episode V - The Empire Strikes Back</th>\n",
       "      <td>1980-05-21</td>\n",
       "      <td>1980-06-20</td>\n",
       "      <td>NaT</td>\n",
       "      <td>NaT</td>\n",
       "      <td>1981-01-15</td>\n",
       "    </tr>\n",
       "    <tr>\n",
       "      <th>Star Wars: Episode VI - Return of the Jedi</th>\n",
       "      <td>1983-06-02</td>\n",
       "      <td>1983-05-25</td>\n",
       "      <td>NaT</td>\n",
       "      <td>NaT</td>\n",
       "      <td>1984-01-01</td>\n",
       "    </tr>\n",
       "    <tr>\n",
       "      <th>Star Wars: Episode VII - The Force Awakens</th>\n",
       "      <td>2015-12-17</td>\n",
       "      <td>2015-12-18</td>\n",
       "      <td>2015-12-17</td>\n",
       "      <td>2015-12-17</td>\n",
       "      <td>2015-12-17</td>\n",
       "    </tr>\n",
       "  </tbody>\n",
       "</table>\n",
       "</div>"
      ],
      "text/plain": [
       "                                                     date             \\\n",
       "country                                                UK        USA   \n",
       "title                                                                  \n",
       "Star Wars: Episode I - The Phantom Menace      1999-07-15 1999-05-19   \n",
       "Star Wars: Episode II - Attack of the Clones   2002-05-16 2002-05-16   \n",
       "Star Wars: Episode III - Revenge of the Sith   2005-05-19 2005-05-19   \n",
       "Star Wars: Episode IX                          2019-06-21 2019-05-24   \n",
       "Star Wars: Episode V - The Empire Strikes Back 1980-05-21 1980-06-20   \n",
       "Star Wars: Episode VI - Return of the Jedi     1983-06-02 1983-05-25   \n",
       "Star Wars: Episode VII - The Force Awakens     2015-12-17 2015-12-18   \n",
       "\n",
       "                                                           \\\n",
       "country                                           Ukraine   \n",
       "title                                                       \n",
       "Star Wars: Episode I - The Phantom Menace             NaT   \n",
       "Star Wars: Episode II - Attack of the Clones   2002-06-08   \n",
       "Star Wars: Episode III - Revenge of the Sith          NaT   \n",
       "Star Wars: Episode IX                                 NaT   \n",
       "Star Wars: Episode V - The Empire Strikes Back        NaT   \n",
       "Star Wars: Episode VI - Return of the Jedi            NaT   \n",
       "Star Wars: Episode VII - The Force Awakens     2015-12-17   \n",
       "\n",
       "                                                                                \n",
       "country                                        United Arab Emirates    Uruguay  \n",
       "title                                                                           \n",
       "Star Wars: Episode I - The Phantom Menace                1999-08-25 1999-07-02  \n",
       "Star Wars: Episode II - Attack of the Clones             2002-05-16 2002-07-05  \n",
       "Star Wars: Episode III - Revenge of the Sith             2005-05-19 2005-05-18  \n",
       "Star Wars: Episode IX                                           NaT        NaT  \n",
       "Star Wars: Episode V - The Empire Strikes Back                  NaT 1981-01-15  \n",
       "Star Wars: Episode VI - Return of the Jedi                      NaT 1984-01-01  \n",
       "Star Wars: Episode VII - The Force Awakens               2015-12-17 2015-12-17  "
      ]
     },
     "execution_count": 149,
     "metadata": {},
     "output_type": "execute_result"
    }
   ],
   "source": [
    "r = release_dates\n",
    "r = r[r.title.str.startswith('Star Wars: Episode')]\n",
    "r = r[r.country.str.startswith('U')]\n",
    "r.set_index(['title', 'country'])[['date']].unstack()"
   ]
  },
  {
   "cell_type": "code",
   "execution_count": null,
   "metadata": {
    "collapsed": true
   },
   "outputs": [],
   "source": []
  },
  {
   "cell_type": "code",
   "execution_count": null,
   "metadata": {
    "collapsed": true
   },
   "outputs": [],
   "source": []
  },
  {
   "cell_type": "code",
   "execution_count": 150,
   "metadata": {},
   "outputs": [
    {
     "data": {
      "text/html": [
       "<div>\n",
       "<style>\n",
       "    .dataframe thead tr:only-child th {\n",
       "        text-align: right;\n",
       "    }\n",
       "\n",
       "    .dataframe thead th {\n",
       "        text-align: left;\n",
       "    }\n",
       "\n",
       "    .dataframe tbody tr th {\n",
       "        vertical-align: top;\n",
       "    }\n",
       "</style>\n",
       "<table border=\"1\" class=\"dataframe\">\n",
       "  <thead>\n",
       "    <tr style=\"text-align: right;\">\n",
       "      <th></th>\n",
       "      <th>title</th>\n",
       "      <th>year</th>\n",
       "      <th>name</th>\n",
       "      <th>type</th>\n",
       "      <th>character</th>\n",
       "      <th>n</th>\n",
       "    </tr>\n",
       "  </thead>\n",
       "  <tbody>\n",
       "    <tr>\n",
       "      <th>0</th>\n",
       "      <td>Closet Monster</td>\n",
       "      <td>2015</td>\n",
       "      <td>Buffy #1</td>\n",
       "      <td>actor</td>\n",
       "      <td>Buffy 4</td>\n",
       "      <td>31.0</td>\n",
       "    </tr>\n",
       "    <tr>\n",
       "      <th>1</th>\n",
       "      <td>Suuri illusioni</td>\n",
       "      <td>1985</td>\n",
       "      <td>Homo $</td>\n",
       "      <td>actor</td>\n",
       "      <td>Guests</td>\n",
       "      <td>22.0</td>\n",
       "    </tr>\n",
       "    <tr>\n",
       "      <th>2</th>\n",
       "      <td>Battle of the Sexes</td>\n",
       "      <td>2017</td>\n",
       "      <td>$hutter</td>\n",
       "      <td>actor</td>\n",
       "      <td>Bobby Riggs Fan</td>\n",
       "      <td>10.0</td>\n",
       "    </tr>\n",
       "    <tr>\n",
       "      <th>3</th>\n",
       "      <td>Secret in Their Eyes</td>\n",
       "      <td>2015</td>\n",
       "      <td>$hutter</td>\n",
       "      <td>actor</td>\n",
       "      <td>2002 Dodger Fan</td>\n",
       "      <td>NaN</td>\n",
       "    </tr>\n",
       "    <tr>\n",
       "      <th>4</th>\n",
       "      <td>Steve Jobs</td>\n",
       "      <td>2015</td>\n",
       "      <td>$hutter</td>\n",
       "      <td>actor</td>\n",
       "      <td>1988 Opera House Patron</td>\n",
       "      <td>NaN</td>\n",
       "    </tr>\n",
       "  </tbody>\n",
       "</table>\n",
       "</div>"
      ],
      "text/plain": [
       "                  title  year      name   type                character     n\n",
       "0        Closet Monster  2015  Buffy #1  actor                  Buffy 4  31.0\n",
       "1       Suuri illusioni  1985    Homo $  actor                   Guests  22.0\n",
       "2   Battle of the Sexes  2017   $hutter  actor          Bobby Riggs Fan  10.0\n",
       "3  Secret in Their Eyes  2015   $hutter  actor          2002 Dodger Fan   NaN\n",
       "4            Steve Jobs  2015   $hutter  actor  1988 Opera House Patron   NaN"
      ]
     },
     "execution_count": 150,
     "metadata": {},
     "output_type": "execute_result"
    }
   ],
   "source": [
    "cast.head()"
   ]
  },
  {
   "cell_type": "code",
   "execution_count": 151,
   "metadata": {},
   "outputs": [
    {
     "data": {
      "text/html": [
       "<div>\n",
       "<style>\n",
       "    .dataframe thead tr:only-child th {\n",
       "        text-align: right;\n",
       "    }\n",
       "\n",
       "    .dataframe thead th {\n",
       "        text-align: left;\n",
       "    }\n",
       "\n",
       "    .dataframe tbody tr th {\n",
       "        vertical-align: top;\n",
       "    }\n",
       "</style>\n",
       "<table border=\"1\" class=\"dataframe\">\n",
       "  <thead>\n",
       "    <tr style=\"text-align: right;\">\n",
       "      <th></th>\n",
       "      <th>title</th>\n",
       "      <th>year</th>\n",
       "    </tr>\n",
       "  </thead>\n",
       "  <tbody>\n",
       "    <tr>\n",
       "      <th>0</th>\n",
       "      <td>Closet Monster</td>\n",
       "      <td>2015</td>\n",
       "    </tr>\n",
       "    <tr>\n",
       "      <th>1</th>\n",
       "      <td>Suuri illusioni</td>\n",
       "      <td>1985</td>\n",
       "    </tr>\n",
       "    <tr>\n",
       "      <th>2</th>\n",
       "      <td>Battle of the Sexes</td>\n",
       "      <td>2017</td>\n",
       "    </tr>\n",
       "    <tr>\n",
       "      <th>3</th>\n",
       "      <td>Secret in Their Eyes</td>\n",
       "      <td>2015</td>\n",
       "    </tr>\n",
       "    <tr>\n",
       "      <th>4</th>\n",
       "      <td>Steve Jobs</td>\n",
       "      <td>2015</td>\n",
       "    </tr>\n",
       "  </tbody>\n",
       "</table>\n",
       "</div>"
      ],
      "text/plain": [
       "                  title  year\n",
       "0        Closet Monster  2015\n",
       "1       Suuri illusioni  1985\n",
       "2   Battle of the Sexes  2017\n",
       "3  Secret in Their Eyes  2015\n",
       "4            Steve Jobs  2015"
      ]
     },
     "execution_count": 151,
     "metadata": {},
     "output_type": "execute_result"
    }
   ],
   "source": [
    "t = titles\n",
    "\n",
    "t.head()"
   ]
  },
  {
   "cell_type": "code",
   "execution_count": null,
   "metadata": {},
   "outputs": [],
   "source": [
    "c = cast\n",
    "c = c[c.title == 'Hamlet']\n",
    "c = c.set_index(['year', 'character'])#.unstack('type')\n",
    "c"
   ]
  },
  {
   "cell_type": "code",
   "execution_count": null,
   "metadata": {},
   "outputs": [],
   "source": [
    "c = cast\n",
    "c = c[c.title == 'Hamlet']\n",
    "c = c.set_index(['year', 'type'])#.unstack('type')\n",
    "c"
   ]
  },
  {
   "cell_type": "code",
   "execution_count": null,
   "metadata": {
    "collapsed": true
   },
   "outputs": [],
   "source": []
  },
  {
   "cell_type": "code",
   "execution_count": null,
   "metadata": {
    "collapsed": true
   },
   "outputs": [],
   "source": []
  },
  {
   "cell_type": "code",
   "execution_count": null,
   "metadata": {
    "collapsed": true
   },
   "outputs": [],
   "source": []
  },
  {
   "cell_type": "code",
   "execution_count": null,
   "metadata": {
    "collapsed": true
   },
   "outputs": [],
   "source": []
  },
  {
   "cell_type": "code",
   "execution_count": null,
   "metadata": {
    "collapsed": true
   },
   "outputs": [],
   "source": []
  },
  {
   "cell_type": "code",
   "execution_count": null,
   "metadata": {
    "collapsed": true
   },
   "outputs": [],
   "source": []
  },
  {
   "cell_type": "code",
   "execution_count": null,
   "metadata": {
    "collapsed": true
   },
   "outputs": [],
   "source": []
  },
  {
   "cell_type": "code",
   "execution_count": null,
   "metadata": {
    "collapsed": true
   },
   "outputs": [],
   "source": []
  },
  {
   "cell_type": "code",
   "execution_count": null,
   "metadata": {
    "collapsed": true
   },
   "outputs": [],
   "source": []
  },
  {
   "cell_type": "code",
   "execution_count": null,
   "metadata": {
    "collapsed": true
   },
   "outputs": [],
   "source": []
  }
 ],
 "metadata": {
  "kernelspec": {
   "display_name": "Python 3",
   "language": "python",
   "name": "python3"
  },
  "language_info": {
   "codemirror_mode": {
    "name": "ipython",
    "version": 3
   },
   "file_extension": ".py",
   "mimetype": "text/x-python",
   "name": "python",
   "nbconvert_exporter": "python",
   "pygments_lexer": "ipython3",
   "version": "3.6.1"
  }
 },
 "nbformat": 4,
 "nbformat_minor": 1
}
